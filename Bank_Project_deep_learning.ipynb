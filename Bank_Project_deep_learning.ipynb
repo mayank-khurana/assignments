{
  "nbformat": 4,
  "nbformat_minor": 0,
  "metadata": {
    "kernelspec": {
      "display_name": "Python 3",
      "language": "python",
      "name": "python3"
    },
    "language_info": {
      "codemirror_mode": {
        "name": "ipython",
        "version": 3
      },
      "file_extension": ".py",
      "mimetype": "text/x-python",
      "name": "python",
      "nbconvert_exporter": "python",
      "pygments_lexer": "ipython3",
      "version": "3.7.4"
    },
    "colab": {
      "name": "Bank-Project_deep_learning.ipynb",
      "provenance": [],
      "collapsed_sections": [],
      "include_colab_link": true
    },
    "accelerator": "GPU"
  },
  "cells": [
    {
      "cell_type": "markdown",
      "metadata": {
        "id": "view-in-github",
        "colab_type": "text"
      },
      "source": [
        "<a href=\"https://colab.research.google.com/github/pawnzo90z/assignments/blob/master/Bank_Project_deep_learning.ipynb\" target=\"_parent\"><img src=\"https://colab.research.google.com/assets/colab-badge.svg\" alt=\"Open In Colab\"/></a>"
      ]
    },
    {
      "cell_type": "code",
      "metadata": {
        "id": "C8pBsQt4DR9r",
        "colab_type": "code",
        "colab": {
          "base_uri": "https://localhost:8080/",
          "height": 122
        },
        "outputId": "b830eadf-cdc9-46ca-90e2-e0e658e934dc"
      },
      "source": [
        "from google.colab import drive\n",
        "drive.mount('/content/drive')"
      ],
      "execution_count": null,
      "outputs": [
        {
          "output_type": "stream",
          "text": [
            "Go to this URL in a browser: https://accounts.google.com/o/oauth2/auth?client_id=947318989803-6bn6qk8qdgf4n4g3pfee6491hc0brc4i.apps.googleusercontent.com&redirect_uri=urn%3aietf%3awg%3aoauth%3a2.0%3aoob&response_type=code&scope=email%20https%3a%2f%2fwww.googleapis.com%2fauth%2fdocs.test%20https%3a%2f%2fwww.googleapis.com%2fauth%2fdrive%20https%3a%2f%2fwww.googleapis.com%2fauth%2fdrive.photos.readonly%20https%3a%2f%2fwww.googleapis.com%2fauth%2fpeopleapi.readonly\n",
            "\n",
            "Enter your authorization code:\n",
            "··········\n",
            "Mounted at /content/drive\n"
          ],
          "name": "stdout"
        }
      ]
    },
    {
      "cell_type": "code",
      "metadata": {
        "id": "7tQGywBlDZgc",
        "colab_type": "code",
        "colab": {}
      },
      "source": [
        "import os\n",
        "os.chdir('/content/drive/My Drive/Colab Notebooks/sunny_int')"
      ],
      "execution_count": null,
      "outputs": []
    },
    {
      "cell_type": "markdown",
      "metadata": {
        "id": "JH5Q5OrN2eju",
        "colab_type": "text"
      },
      "source": [
        "**Importing Lib & Pre-Processing**"
      ]
    },
    {
      "cell_type": "code",
      "metadata": {
        "id": "rl68Be0kCsgE",
        "colab_type": "code",
        "colab": {
          "base_uri": "https://localhost:8080/",
          "height": 513
        },
        "outputId": "b5c7cffc-3228-4f32-b50c-6fa2f85f37ef"
      },
      "source": [
        "import pandas as pd\n",
        "import numpy as np\n",
        "import xlrd\n",
        "import seaborn as sns\n",
        "import matplotlib.pyplot as plt\n",
        "import numpy as np\n",
        "import scipy.stats as st\n",
        "%matplotlib inline\n",
        "from sklearn.model_selection import train_test_split\n",
        "\n",
        "df=pd.read_csv('simpl_payments_bank_digicard_v1.0.csv')\n",
        "#df.info()\n",
        "df.head()"
      ],
      "execution_count": null,
      "outputs": [
        {
          "output_type": "stream",
          "text": [
            "/usr/local/lib/python3.6/dist-packages/statsmodels/tools/_testing.py:19: FutureWarning: pandas.util.testing is deprecated. Use the functions in the public API at pandas.testing instead.\n",
            "  import pandas.util.testing as tm\n"
          ],
          "name": "stderr"
        },
        {
          "output_type": "execute_result",
          "data": {
            "text/html": [
              "<div>\n",
              "<style scoped>\n",
              "    .dataframe tbody tr th:only-of-type {\n",
              "        vertical-align: middle;\n",
              "    }\n",
              "\n",
              "    .dataframe tbody tr th {\n",
              "        vertical-align: top;\n",
              "    }\n",
              "\n",
              "    .dataframe thead th {\n",
              "        text-align: right;\n",
              "    }\n",
              "</style>\n",
              "<table border=\"1\" class=\"dataframe\">\n",
              "  <thead>\n",
              "    <tr style=\"text-align: right;\">\n",
              "      <th></th>\n",
              "      <th>user_id</th>\n",
              "      <th>gender</th>\n",
              "      <th>date_of_birth</th>\n",
              "      <th>workclass</th>\n",
              "      <th>education_level</th>\n",
              "      <th>education_num</th>\n",
              "      <th>marital_status</th>\n",
              "      <th>occupation</th>\n",
              "      <th>relationship</th>\n",
              "      <th>capital_gain</th>\n",
              "      <th>capital_loss</th>\n",
              "      <th>hours_per_week</th>\n",
              "      <th>approved</th>\n",
              "      <th>address</th>\n",
              "      <th>email</th>\n",
              "      <th>inquiry_purpose_code</th>\n",
              "      <th>institute_type</th>\n",
              "      <th>account_type</th>\n",
              "      <th>asset_class_cd</th>\n",
              "      <th>asset_code</th>\n",
              "      <th>portfolio_type</th>\n",
              "    </tr>\n",
              "  </thead>\n",
              "  <tbody>\n",
              "    <tr>\n",
              "      <th>0</th>\n",
              "      <td>307c73a3-0c67-43b5-b0d1-62ad5f00b52a</td>\n",
              "      <td>Female</td>\n",
              "      <td>1987-01-03</td>\n",
              "      <td>Private</td>\n",
              "      <td>11th</td>\n",
              "      <td>7.0</td>\n",
              "      <td>Never-married</td>\n",
              "      <td>Sales</td>\n",
              "      <td>Unmarried</td>\n",
              "      <td>0.0</td>\n",
              "      <td>0.0</td>\n",
              "      <td>17.0</td>\n",
              "      <td>0</td>\n",
              "      <td>45424 Norris Common Apt. 390\\nNorth Mike, AR 8...</td>\n",
              "      <td>vasquezleah@yahoo.com</td>\n",
              "      <td>7.0</td>\n",
              "      <td>PVT</td>\n",
              "      <td>5</td>\n",
              "      <td>NaN</td>\n",
              "      <td>1.0</td>\n",
              "      <td>R</td>\n",
              "    </tr>\n",
              "    <tr>\n",
              "      <th>1</th>\n",
              "      <td>519481f1-604d-48b6-aa47-4123a982431a</td>\n",
              "      <td>Male</td>\n",
              "      <td>1970-01-07</td>\n",
              "      <td>Self-emp-not-inc</td>\n",
              "      <td>Some-college</td>\n",
              "      <td>10.0</td>\n",
              "      <td>Married-civ-spouse</td>\n",
              "      <td>Craft-repair</td>\n",
              "      <td>Husband</td>\n",
              "      <td>0.0</td>\n",
              "      <td>0.0</td>\n",
              "      <td>48.0</td>\n",
              "      <td>0</td>\n",
              "      <td>5022 Rebecca Haven Apt. 258\\nThompsonfurt, CT ...</td>\n",
              "      <td>johnsontrevor@hotmail.com</td>\n",
              "      <td>13.0</td>\n",
              "      <td>NBF</td>\n",
              "      <td>5</td>\n",
              "      <td>NaN</td>\n",
              "      <td>1.0</td>\n",
              "      <td>R</td>\n",
              "    </tr>\n",
              "    <tr>\n",
              "      <th>2</th>\n",
              "      <td>f66fe2c6-53e3-46ce-8321-e530b4af1ace</td>\n",
              "      <td>Male</td>\n",
              "      <td>1973-01-06</td>\n",
              "      <td>Private</td>\n",
              "      <td>HS-grad</td>\n",
              "      <td>9.0</td>\n",
              "      <td>Divorced</td>\n",
              "      <td>Sales</td>\n",
              "      <td>Not-in-family</td>\n",
              "      <td>0.0</td>\n",
              "      <td>0.0</td>\n",
              "      <td>50.0</td>\n",
              "      <td>0</td>\n",
              "      <td>8780 Brown Loaf Apt. 099\\nNorth David, NJ 56510</td>\n",
              "      <td>morganemily@gmail.com</td>\n",
              "      <td>13.0</td>\n",
              "      <td>NBF</td>\n",
              "      <td>5</td>\n",
              "      <td>NaN</td>\n",
              "      <td>1.0</td>\n",
              "      <td>R</td>\n",
              "    </tr>\n",
              "    <tr>\n",
              "      <th>3</th>\n",
              "      <td>91360ed7-72d1-4f6e-b492-d71ef4480061</td>\n",
              "      <td>Female</td>\n",
              "      <td>2001-12-30</td>\n",
              "      <td>Private</td>\n",
              "      <td>11th</td>\n",
              "      <td>7.0</td>\n",
              "      <td>Never-married</td>\n",
              "      <td>Sales</td>\n",
              "      <td>Own-child</td>\n",
              "      <td>0.0</td>\n",
              "      <td>0.0</td>\n",
              "      <td>15.0</td>\n",
              "      <td>0</td>\n",
              "      <td>721 Jackson Extensions Suite 995\\nNew Taraside...</td>\n",
              "      <td>agarcia@hotmail.com</td>\n",
              "      <td>13.0</td>\n",
              "      <td>NBF</td>\n",
              "      <td>5</td>\n",
              "      <td>NaN</td>\n",
              "      <td>1.0</td>\n",
              "      <td>R</td>\n",
              "    </tr>\n",
              "    <tr>\n",
              "      <th>4</th>\n",
              "      <td>0e1977f3-3bef-4283-8d0a-d60b0f6ff480</td>\n",
              "      <td>Male</td>\n",
              "      <td>1986-01-03</td>\n",
              "      <td>Private</td>\n",
              "      <td>Some-college</td>\n",
              "      <td>10.0</td>\n",
              "      <td>Married-civ-spouse</td>\n",
              "      <td>Handlers-cleaners</td>\n",
              "      <td>Husband</td>\n",
              "      <td>0.0</td>\n",
              "      <td>0.0</td>\n",
              "      <td>50.0</td>\n",
              "      <td>0</td>\n",
              "      <td>935 Burch Divide\\nLake Bobbyfurt, VT 14128</td>\n",
              "      <td>shermanmeredith@gmail.com</td>\n",
              "      <td>13.0</td>\n",
              "      <td>PVT</td>\n",
              "      <td>47</td>\n",
              "      <td>S</td>\n",
              "      <td>1.0</td>\n",
              "      <td>I</td>\n",
              "    </tr>\n",
              "  </tbody>\n",
              "</table>\n",
              "</div>"
            ],
            "text/plain": [
              "                                user_id   gender  ... asset_code portfolio_type\n",
              "0  307c73a3-0c67-43b5-b0d1-62ad5f00b52a   Female  ...        1.0              R\n",
              "1  519481f1-604d-48b6-aa47-4123a982431a     Male  ...        1.0              R\n",
              "2  f66fe2c6-53e3-46ce-8321-e530b4af1ace     Male  ...        1.0              R\n",
              "3  91360ed7-72d1-4f6e-b492-d71ef4480061   Female  ...        1.0              R\n",
              "4  0e1977f3-3bef-4283-8d0a-d60b0f6ff480     Male  ...        1.0              I\n",
              "\n",
              "[5 rows x 21 columns]"
            ]
          },
          "metadata": {
            "tags": []
          },
          "execution_count": 3
        }
      ]
    },
    {
      "cell_type": "code",
      "metadata": {
        "id": "fuhH2AdGZcHG",
        "colab_type": "code",
        "colab": {}
      },
      "source": [
        "# convert dtypes to int from object(string)\n",
        "df['education_num'] = df['education_num'].astype(np.int64)\n",
        "df['capital_gain'] = df['capital_gain'].astype(np.int64)\n",
        "df['capital_loss'] = df['capital_loss'].astype(np.int64)\n"
      ],
      "execution_count": null,
      "outputs": []
    },
    {
      "cell_type": "code",
      "metadata": {
        "id": "yYyqfT8hcuhq",
        "colab_type": "code",
        "colab": {
          "base_uri": "https://localhost:8080/",
          "height": 238
        },
        "outputId": "fcf23a30-db2d-4ac9-8b7a-93a852fad6c5"
      },
      "source": [
        "# convert gender to numeric value and change dtype to int\n",
        "print(df['gender'].value_counts())\n",
        "df['gender'][df['gender']==' Male'] = 0\n",
        "df['gender'][df['gender']==' Female'] = 1\n",
        "df['gender'] = df['gender'].astype(np.int64)\n"
      ],
      "execution_count": null,
      "outputs": [
        {
          "output_type": "stream",
          "text": [
            " Male      30527\n",
            " Female    14695\n",
            "Name: gender, dtype: int64\n"
          ],
          "name": "stdout"
        },
        {
          "output_type": "stream",
          "text": [
            "/usr/local/lib/python3.6/dist-packages/ipykernel_launcher.py:3: SettingWithCopyWarning: \n",
            "A value is trying to be set on a copy of a slice from a DataFrame\n",
            "\n",
            "See the caveats in the documentation: https://pandas.pydata.org/pandas-docs/stable/user_guide/indexing.html#returning-a-view-versus-a-copy\n",
            "  This is separate from the ipykernel package so we can avoid doing imports until\n",
            "/usr/local/lib/python3.6/dist-packages/ipykernel_launcher.py:4: SettingWithCopyWarning: \n",
            "A value is trying to be set on a copy of a slice from a DataFrame\n",
            "\n",
            "See the caveats in the documentation: https://pandas.pydata.org/pandas-docs/stable/user_guide/indexing.html#returning-a-view-versus-a-copy\n",
            "  after removing the cwd from sys.path.\n"
          ],
          "name": "stderr"
        }
      ]
    },
    {
      "cell_type": "code",
      "metadata": {
        "id": "Xwht1KfVePau",
        "colab_type": "code",
        "colab": {
          "base_uri": "https://localhost:8080/",
          "height": 190
        },
        "outputId": "ab56801e-f3ff-479e-9c02-e8d49828aaff"
      },
      "source": [
        "#age\n",
        "#convert DOB to pandas datetime\n",
        "from dateutil.relativedelta import relativedelta\n",
        "df['date_of_birth'] = pd.to_datetime(df['date_of_birth'])\n",
        "def f(end):\n",
        "    r = relativedelta(pd.to_datetime('now'), end) \n",
        "    return r.years\n",
        "\n",
        "df['age'] = df[\"date_of_birth\"].apply(f)\n",
        "print (df.head())\n",
        "'''\n",
        "# convert age to group 'Young','middle_aged','senior','old'\n",
        "bins= [0,25,45,65,110]\n",
        "labels = ['Young','middle_aged','senior','old']\n",
        "df['agegroup_'] = pd.cut(df['age'], bins=bins, labels=labels, right=False)\n",
        "df.head()\n",
        "# one-hot encode age\n",
        "df = pd.get_dummies(df, columns=[\"agegroup_\"])\n",
        "'''"
      ],
      "execution_count": null,
      "outputs": [
        {
          "output_type": "stream",
          "text": [
            "                                user_id  gender  ... portfolio_type age\n",
            "0  307c73a3-0c67-43b5-b0d1-62ad5f00b52a       1  ...              R  33\n",
            "1  519481f1-604d-48b6-aa47-4123a982431a       0  ...              R  50\n",
            "2  f66fe2c6-53e3-46ce-8321-e530b4af1ace       0  ...              R  47\n",
            "3  91360ed7-72d1-4f6e-b492-d71ef4480061       1  ...              R  18\n",
            "4  0e1977f3-3bef-4283-8d0a-d60b0f6ff480       0  ...              I  34\n",
            "\n",
            "[5 rows x 22 columns]\n"
          ],
          "name": "stdout"
        },
        {
          "output_type": "execute_result",
          "data": {
            "text/plain": [
              "'\\n# convert age to group \\'Young\\',\\'middle_aged\\',\\'senior\\',\\'old\\'\\nbins= [0,25,45,65,110]\\nlabels = [\\'Young\\',\\'middle_aged\\',\\'senior\\',\\'old\\']\\ndf[\\'agegroup_\\'] = pd.cut(df[\\'age\\'], bins=bins, labels=labels, right=False)\\ndf.head()\\n# one-hot encode age\\ndf = pd.get_dummies(df, columns=[\"agegroup_\"])\\n'"
            ]
          },
          "metadata": {
            "tags": []
          },
          "execution_count": 6
        }
      ]
    },
    {
      "cell_type": "code",
      "metadata": {
        "id": "yoq1hBJ7dRuD",
        "colab_type": "code",
        "colab": {
          "base_uri": "https://localhost:8080/",
          "height": 34
        },
        "outputId": "5e3fe229-3464-4f92-ad13-fe1a580af1de"
      },
      "source": [
        "'''\n",
        "#one hot encode workclass\n",
        "#workclass\n",
        "df.workclass.value_counts()\n",
        "df=pd.get_dummies(df, columns=[\"workclass\"])\n",
        "'''"
      ],
      "execution_count": null,
      "outputs": [
        {
          "output_type": "execute_result",
          "data": {
            "text/plain": [
              "'\\n#one hot encode workclass\\n#workclass\\ndf.workclass.value_counts()\\ndf=pd.get_dummies(df, columns=[\"workclass\"])\\n'"
            ]
          },
          "metadata": {
            "tags": []
          },
          "execution_count": 7
        }
      ]
    },
    {
      "cell_type": "code",
      "metadata": {
        "id": "rarHEOS7kPTI",
        "colab_type": "code",
        "colab": {}
      },
      "source": [
        "#marital_status\n",
        "# convert into group of married,not_married,never_married\n",
        "df.marital_status.value_counts()\n",
        "def cat_married(end):\n",
        "  if end == ' Married-civ-spouse' or end == ' Married-AF-spouse':\n",
        "    return 'married'\n",
        "  elif end ==' Divorced' or end ==' Separated' or end == ' Widowed' or end == ' Married-spouse-absent':\n",
        "    return 'not_married'\n",
        "  elif end == ' Never-married':\n",
        "    return ' never_married'\n",
        "  else:\n",
        "    print('missed out this cat',end)\n",
        "df[\"marital_status_less\"] = df[\"marital_status\"].apply(cat_married)\n",
        "#df=pd.get_dummies(df, columns=[\"marital_status_less\"])\n"
      ],
      "execution_count": null,
      "outputs": []
    },
    {
      "cell_type": "code",
      "metadata": {
        "id": "5HUI-9yXo9Fy",
        "colab_type": "code",
        "colab": {
          "base_uri": "https://localhost:8080/",
          "height": 272
        },
        "outputId": "96a36601-4988-4430-e30d-ce4711a3447e"
      },
      "source": [
        "#occupation\n",
        "df.occupation.value_counts()\n",
        "#df=pd.get_dummies(df, columns=[\"occupation\"])"
      ],
      "execution_count": null,
      "outputs": [
        {
          "output_type": "execute_result",
          "data": {
            "text/plain": [
              " Craft-repair         6020\n",
              " Prof-specialty       6008\n",
              " Exec-managerial      5984\n",
              " Adm-clerical         5540\n",
              " Sales                5408\n",
              " Other-service        4808\n",
              " Machine-op-inspct    2970\n",
              " Transport-moving     2316\n",
              " Handlers-cleaners    2046\n",
              " Farming-fishing      1480\n",
              " Tech-support         1420\n",
              " Protective-serv       976\n",
              " Priv-house-serv       232\n",
              " Armed-Forces           14\n",
              "Name: occupation, dtype: int64"
            ]
          },
          "metadata": {
            "tags": []
          },
          "execution_count": 9
        }
      ]
    },
    {
      "cell_type": "code",
      "metadata": {
        "id": "7j62qcYOkPPx",
        "colab_type": "code",
        "colab": {
          "base_uri": "https://localhost:8080/",
          "height": 496
        },
        "outputId": "f0949f6b-6338-4b1f-be92-dadaebf4bae5"
      },
      "source": [
        "#hours_per_week\n",
        "#convert working hours to group of 'part_time','full_time','over_time'\n",
        "print(df['hours_per_week'].max())\n",
        "bins= [0,25,40,100]\n",
        "labels = ['part_time','full_time','over_time']\n",
        "df['hours_'] = pd.cut(df['hours_per_week'], bins=bins, labels=labels, right=False)\n",
        "df.head()\n",
        "#df = pd.get_dummies(df, columns=[\"hours_\"])"
      ],
      "execution_count": null,
      "outputs": [
        {
          "output_type": "stream",
          "text": [
            "99.0\n"
          ],
          "name": "stdout"
        },
        {
          "output_type": "execute_result",
          "data": {
            "text/html": [
              "<div>\n",
              "<style scoped>\n",
              "    .dataframe tbody tr th:only-of-type {\n",
              "        vertical-align: middle;\n",
              "    }\n",
              "\n",
              "    .dataframe tbody tr th {\n",
              "        vertical-align: top;\n",
              "    }\n",
              "\n",
              "    .dataframe thead th {\n",
              "        text-align: right;\n",
              "    }\n",
              "</style>\n",
              "<table border=\"1\" class=\"dataframe\">\n",
              "  <thead>\n",
              "    <tr style=\"text-align: right;\">\n",
              "      <th></th>\n",
              "      <th>user_id</th>\n",
              "      <th>gender</th>\n",
              "      <th>date_of_birth</th>\n",
              "      <th>workclass</th>\n",
              "      <th>education_level</th>\n",
              "      <th>education_num</th>\n",
              "      <th>marital_status</th>\n",
              "      <th>occupation</th>\n",
              "      <th>relationship</th>\n",
              "      <th>capital_gain</th>\n",
              "      <th>capital_loss</th>\n",
              "      <th>hours_per_week</th>\n",
              "      <th>approved</th>\n",
              "      <th>address</th>\n",
              "      <th>email</th>\n",
              "      <th>inquiry_purpose_code</th>\n",
              "      <th>institute_type</th>\n",
              "      <th>account_type</th>\n",
              "      <th>asset_class_cd</th>\n",
              "      <th>asset_code</th>\n",
              "      <th>portfolio_type</th>\n",
              "      <th>age</th>\n",
              "      <th>marital_status_less</th>\n",
              "      <th>hours_</th>\n",
              "    </tr>\n",
              "  </thead>\n",
              "  <tbody>\n",
              "    <tr>\n",
              "      <th>0</th>\n",
              "      <td>307c73a3-0c67-43b5-b0d1-62ad5f00b52a</td>\n",
              "      <td>1</td>\n",
              "      <td>1987-01-03</td>\n",
              "      <td>Private</td>\n",
              "      <td>11th</td>\n",
              "      <td>7</td>\n",
              "      <td>Never-married</td>\n",
              "      <td>Sales</td>\n",
              "      <td>Unmarried</td>\n",
              "      <td>0</td>\n",
              "      <td>0</td>\n",
              "      <td>17.0</td>\n",
              "      <td>0</td>\n",
              "      <td>45424 Norris Common Apt. 390\\nNorth Mike, AR 8...</td>\n",
              "      <td>vasquezleah@yahoo.com</td>\n",
              "      <td>7.0</td>\n",
              "      <td>PVT</td>\n",
              "      <td>5</td>\n",
              "      <td>NaN</td>\n",
              "      <td>1.0</td>\n",
              "      <td>R</td>\n",
              "      <td>33</td>\n",
              "      <td>never_married</td>\n",
              "      <td>part_time</td>\n",
              "    </tr>\n",
              "    <tr>\n",
              "      <th>1</th>\n",
              "      <td>519481f1-604d-48b6-aa47-4123a982431a</td>\n",
              "      <td>0</td>\n",
              "      <td>1970-01-07</td>\n",
              "      <td>Self-emp-not-inc</td>\n",
              "      <td>Some-college</td>\n",
              "      <td>10</td>\n",
              "      <td>Married-civ-spouse</td>\n",
              "      <td>Craft-repair</td>\n",
              "      <td>Husband</td>\n",
              "      <td>0</td>\n",
              "      <td>0</td>\n",
              "      <td>48.0</td>\n",
              "      <td>0</td>\n",
              "      <td>5022 Rebecca Haven Apt. 258\\nThompsonfurt, CT ...</td>\n",
              "      <td>johnsontrevor@hotmail.com</td>\n",
              "      <td>13.0</td>\n",
              "      <td>NBF</td>\n",
              "      <td>5</td>\n",
              "      <td>NaN</td>\n",
              "      <td>1.0</td>\n",
              "      <td>R</td>\n",
              "      <td>50</td>\n",
              "      <td>married</td>\n",
              "      <td>over_time</td>\n",
              "    </tr>\n",
              "    <tr>\n",
              "      <th>2</th>\n",
              "      <td>f66fe2c6-53e3-46ce-8321-e530b4af1ace</td>\n",
              "      <td>0</td>\n",
              "      <td>1973-01-06</td>\n",
              "      <td>Private</td>\n",
              "      <td>HS-grad</td>\n",
              "      <td>9</td>\n",
              "      <td>Divorced</td>\n",
              "      <td>Sales</td>\n",
              "      <td>Not-in-family</td>\n",
              "      <td>0</td>\n",
              "      <td>0</td>\n",
              "      <td>50.0</td>\n",
              "      <td>0</td>\n",
              "      <td>8780 Brown Loaf Apt. 099\\nNorth David, NJ 56510</td>\n",
              "      <td>morganemily@gmail.com</td>\n",
              "      <td>13.0</td>\n",
              "      <td>NBF</td>\n",
              "      <td>5</td>\n",
              "      <td>NaN</td>\n",
              "      <td>1.0</td>\n",
              "      <td>R</td>\n",
              "      <td>47</td>\n",
              "      <td>not_married</td>\n",
              "      <td>over_time</td>\n",
              "    </tr>\n",
              "    <tr>\n",
              "      <th>3</th>\n",
              "      <td>91360ed7-72d1-4f6e-b492-d71ef4480061</td>\n",
              "      <td>1</td>\n",
              "      <td>2001-12-30</td>\n",
              "      <td>Private</td>\n",
              "      <td>11th</td>\n",
              "      <td>7</td>\n",
              "      <td>Never-married</td>\n",
              "      <td>Sales</td>\n",
              "      <td>Own-child</td>\n",
              "      <td>0</td>\n",
              "      <td>0</td>\n",
              "      <td>15.0</td>\n",
              "      <td>0</td>\n",
              "      <td>721 Jackson Extensions Suite 995\\nNew Taraside...</td>\n",
              "      <td>agarcia@hotmail.com</td>\n",
              "      <td>13.0</td>\n",
              "      <td>NBF</td>\n",
              "      <td>5</td>\n",
              "      <td>NaN</td>\n",
              "      <td>1.0</td>\n",
              "      <td>R</td>\n",
              "      <td>18</td>\n",
              "      <td>never_married</td>\n",
              "      <td>part_time</td>\n",
              "    </tr>\n",
              "    <tr>\n",
              "      <th>4</th>\n",
              "      <td>0e1977f3-3bef-4283-8d0a-d60b0f6ff480</td>\n",
              "      <td>0</td>\n",
              "      <td>1986-01-03</td>\n",
              "      <td>Private</td>\n",
              "      <td>Some-college</td>\n",
              "      <td>10</td>\n",
              "      <td>Married-civ-spouse</td>\n",
              "      <td>Handlers-cleaners</td>\n",
              "      <td>Husband</td>\n",
              "      <td>0</td>\n",
              "      <td>0</td>\n",
              "      <td>50.0</td>\n",
              "      <td>0</td>\n",
              "      <td>935 Burch Divide\\nLake Bobbyfurt, VT 14128</td>\n",
              "      <td>shermanmeredith@gmail.com</td>\n",
              "      <td>13.0</td>\n",
              "      <td>PVT</td>\n",
              "      <td>47</td>\n",
              "      <td>S</td>\n",
              "      <td>1.0</td>\n",
              "      <td>I</td>\n",
              "      <td>34</td>\n",
              "      <td>married</td>\n",
              "      <td>over_time</td>\n",
              "    </tr>\n",
              "  </tbody>\n",
              "</table>\n",
              "</div>"
            ],
            "text/plain": [
              "                                user_id  gender  ... marital_status_less     hours_\n",
              "0  307c73a3-0c67-43b5-b0d1-62ad5f00b52a       1  ...       never_married  part_time\n",
              "1  519481f1-604d-48b6-aa47-4123a982431a       0  ...             married  over_time\n",
              "2  f66fe2c6-53e3-46ce-8321-e530b4af1ace       0  ...         not_married  over_time\n",
              "3  91360ed7-72d1-4f6e-b492-d71ef4480061       1  ...       never_married  part_time\n",
              "4  0e1977f3-3bef-4283-8d0a-d60b0f6ff480       0  ...             married  over_time\n",
              "\n",
              "[5 rows x 24 columns]"
            ]
          },
          "metadata": {
            "tags": []
          },
          "execution_count": 10
        }
      ]
    },
    {
      "cell_type": "code",
      "metadata": {
        "id": "ONW0mV_Vg93i",
        "colab_type": "code",
        "colab": {
          "base_uri": "https://localhost:8080/",
          "height": 340
        },
        "outputId": "fc5e792d-d63f-40b9-8dc4-1e0f9ea39d0f"
      },
      "source": [
        "df.inquiry_purpose_code.value_counts()"
      ],
      "execution_count": null,
      "outputs": [
        {
          "output_type": "execute_result",
          "data": {
            "text/plain": [
              "13.0    20494\n",
              "99.0     8862\n",
              "7.0      5871\n",
              "16.0     3536\n",
              "2.0      2434\n",
              "14.0     1108\n",
              "6.0       479\n",
              "1.0       353\n",
              "10.0      183\n",
              "8.0       172\n",
              "5.0       126\n",
              "3.0       124\n",
              "11.0      110\n",
              "4.0        40\n",
              "17.0       21\n",
              "9.0         7\n",
              "18.0        7\n",
              "12.0        4\n",
              "Name: inquiry_purpose_code, dtype: int64"
            ]
          },
          "metadata": {
            "tags": []
          },
          "execution_count": 11
        }
      ]
    },
    {
      "cell_type": "code",
      "metadata": {
        "id": "ieIoEEQJvRjD",
        "colab_type": "code",
        "colab": {
          "base_uri": "https://localhost:8080/",
          "height": 479
        },
        "outputId": "5c414601-b627-48fa-ab4a-7f7911e3d6f2"
      },
      "source": [
        "def loan(loan_num):\n",
        "  if loan_num == 3 or loan_num == 13 or loan_num == 14:\n",
        "    return 'large'\n",
        "  elif loan_num == 99:\n",
        "    return 'other'\n",
        "  else:\n",
        "    return 'small'\n",
        "\n",
        "\n",
        "df[\"loan_type_\"] = df[\"inquiry_purpose_code\"].apply(loan)\n",
        "#df=pd.get_dummies(df, columns=[\"loan_type_\"])\n",
        "df.head()"
      ],
      "execution_count": null,
      "outputs": [
        {
          "output_type": "execute_result",
          "data": {
            "text/html": [
              "<div>\n",
              "<style scoped>\n",
              "    .dataframe tbody tr th:only-of-type {\n",
              "        vertical-align: middle;\n",
              "    }\n",
              "\n",
              "    .dataframe tbody tr th {\n",
              "        vertical-align: top;\n",
              "    }\n",
              "\n",
              "    .dataframe thead th {\n",
              "        text-align: right;\n",
              "    }\n",
              "</style>\n",
              "<table border=\"1\" class=\"dataframe\">\n",
              "  <thead>\n",
              "    <tr style=\"text-align: right;\">\n",
              "      <th></th>\n",
              "      <th>user_id</th>\n",
              "      <th>gender</th>\n",
              "      <th>date_of_birth</th>\n",
              "      <th>workclass</th>\n",
              "      <th>education_level</th>\n",
              "      <th>education_num</th>\n",
              "      <th>marital_status</th>\n",
              "      <th>occupation</th>\n",
              "      <th>relationship</th>\n",
              "      <th>capital_gain</th>\n",
              "      <th>capital_loss</th>\n",
              "      <th>hours_per_week</th>\n",
              "      <th>approved</th>\n",
              "      <th>address</th>\n",
              "      <th>email</th>\n",
              "      <th>inquiry_purpose_code</th>\n",
              "      <th>institute_type</th>\n",
              "      <th>account_type</th>\n",
              "      <th>asset_class_cd</th>\n",
              "      <th>asset_code</th>\n",
              "      <th>portfolio_type</th>\n",
              "      <th>age</th>\n",
              "      <th>marital_status_less</th>\n",
              "      <th>hours_</th>\n",
              "      <th>loan_type_</th>\n",
              "    </tr>\n",
              "  </thead>\n",
              "  <tbody>\n",
              "    <tr>\n",
              "      <th>0</th>\n",
              "      <td>307c73a3-0c67-43b5-b0d1-62ad5f00b52a</td>\n",
              "      <td>1</td>\n",
              "      <td>1987-01-03</td>\n",
              "      <td>Private</td>\n",
              "      <td>11th</td>\n",
              "      <td>7</td>\n",
              "      <td>Never-married</td>\n",
              "      <td>Sales</td>\n",
              "      <td>Unmarried</td>\n",
              "      <td>0</td>\n",
              "      <td>0</td>\n",
              "      <td>17.0</td>\n",
              "      <td>0</td>\n",
              "      <td>45424 Norris Common Apt. 390\\nNorth Mike, AR 8...</td>\n",
              "      <td>vasquezleah@yahoo.com</td>\n",
              "      <td>7.0</td>\n",
              "      <td>PVT</td>\n",
              "      <td>5</td>\n",
              "      <td>NaN</td>\n",
              "      <td>1.0</td>\n",
              "      <td>R</td>\n",
              "      <td>33</td>\n",
              "      <td>never_married</td>\n",
              "      <td>part_time</td>\n",
              "      <td>small</td>\n",
              "    </tr>\n",
              "    <tr>\n",
              "      <th>1</th>\n",
              "      <td>519481f1-604d-48b6-aa47-4123a982431a</td>\n",
              "      <td>0</td>\n",
              "      <td>1970-01-07</td>\n",
              "      <td>Self-emp-not-inc</td>\n",
              "      <td>Some-college</td>\n",
              "      <td>10</td>\n",
              "      <td>Married-civ-spouse</td>\n",
              "      <td>Craft-repair</td>\n",
              "      <td>Husband</td>\n",
              "      <td>0</td>\n",
              "      <td>0</td>\n",
              "      <td>48.0</td>\n",
              "      <td>0</td>\n",
              "      <td>5022 Rebecca Haven Apt. 258\\nThompsonfurt, CT ...</td>\n",
              "      <td>johnsontrevor@hotmail.com</td>\n",
              "      <td>13.0</td>\n",
              "      <td>NBF</td>\n",
              "      <td>5</td>\n",
              "      <td>NaN</td>\n",
              "      <td>1.0</td>\n",
              "      <td>R</td>\n",
              "      <td>50</td>\n",
              "      <td>married</td>\n",
              "      <td>over_time</td>\n",
              "      <td>large</td>\n",
              "    </tr>\n",
              "    <tr>\n",
              "      <th>2</th>\n",
              "      <td>f66fe2c6-53e3-46ce-8321-e530b4af1ace</td>\n",
              "      <td>0</td>\n",
              "      <td>1973-01-06</td>\n",
              "      <td>Private</td>\n",
              "      <td>HS-grad</td>\n",
              "      <td>9</td>\n",
              "      <td>Divorced</td>\n",
              "      <td>Sales</td>\n",
              "      <td>Not-in-family</td>\n",
              "      <td>0</td>\n",
              "      <td>0</td>\n",
              "      <td>50.0</td>\n",
              "      <td>0</td>\n",
              "      <td>8780 Brown Loaf Apt. 099\\nNorth David, NJ 56510</td>\n",
              "      <td>morganemily@gmail.com</td>\n",
              "      <td>13.0</td>\n",
              "      <td>NBF</td>\n",
              "      <td>5</td>\n",
              "      <td>NaN</td>\n",
              "      <td>1.0</td>\n",
              "      <td>R</td>\n",
              "      <td>47</td>\n",
              "      <td>not_married</td>\n",
              "      <td>over_time</td>\n",
              "      <td>large</td>\n",
              "    </tr>\n",
              "    <tr>\n",
              "      <th>3</th>\n",
              "      <td>91360ed7-72d1-4f6e-b492-d71ef4480061</td>\n",
              "      <td>1</td>\n",
              "      <td>2001-12-30</td>\n",
              "      <td>Private</td>\n",
              "      <td>11th</td>\n",
              "      <td>7</td>\n",
              "      <td>Never-married</td>\n",
              "      <td>Sales</td>\n",
              "      <td>Own-child</td>\n",
              "      <td>0</td>\n",
              "      <td>0</td>\n",
              "      <td>15.0</td>\n",
              "      <td>0</td>\n",
              "      <td>721 Jackson Extensions Suite 995\\nNew Taraside...</td>\n",
              "      <td>agarcia@hotmail.com</td>\n",
              "      <td>13.0</td>\n",
              "      <td>NBF</td>\n",
              "      <td>5</td>\n",
              "      <td>NaN</td>\n",
              "      <td>1.0</td>\n",
              "      <td>R</td>\n",
              "      <td>18</td>\n",
              "      <td>never_married</td>\n",
              "      <td>part_time</td>\n",
              "      <td>large</td>\n",
              "    </tr>\n",
              "    <tr>\n",
              "      <th>4</th>\n",
              "      <td>0e1977f3-3bef-4283-8d0a-d60b0f6ff480</td>\n",
              "      <td>0</td>\n",
              "      <td>1986-01-03</td>\n",
              "      <td>Private</td>\n",
              "      <td>Some-college</td>\n",
              "      <td>10</td>\n",
              "      <td>Married-civ-spouse</td>\n",
              "      <td>Handlers-cleaners</td>\n",
              "      <td>Husband</td>\n",
              "      <td>0</td>\n",
              "      <td>0</td>\n",
              "      <td>50.0</td>\n",
              "      <td>0</td>\n",
              "      <td>935 Burch Divide\\nLake Bobbyfurt, VT 14128</td>\n",
              "      <td>shermanmeredith@gmail.com</td>\n",
              "      <td>13.0</td>\n",
              "      <td>PVT</td>\n",
              "      <td>47</td>\n",
              "      <td>S</td>\n",
              "      <td>1.0</td>\n",
              "      <td>I</td>\n",
              "      <td>34</td>\n",
              "      <td>married</td>\n",
              "      <td>over_time</td>\n",
              "      <td>large</td>\n",
              "    </tr>\n",
              "  </tbody>\n",
              "</table>\n",
              "</div>"
            ],
            "text/plain": [
              "                                user_id  gender  ...     hours_ loan_type_\n",
              "0  307c73a3-0c67-43b5-b0d1-62ad5f00b52a       1  ...  part_time      small\n",
              "1  519481f1-604d-48b6-aa47-4123a982431a       0  ...  over_time      large\n",
              "2  f66fe2c6-53e3-46ce-8321-e530b4af1ace       0  ...  over_time      large\n",
              "3  91360ed7-72d1-4f6e-b492-d71ef4480061       1  ...  part_time      large\n",
              "4  0e1977f3-3bef-4283-8d0a-d60b0f6ff480       0  ...  over_time      large\n",
              "\n",
              "[5 rows x 25 columns]"
            ]
          },
          "metadata": {
            "tags": []
          },
          "execution_count": 12
        }
      ]
    },
    {
      "cell_type": "code",
      "metadata": {
        "id": "mETSvAGEwjjm",
        "colab_type": "code",
        "colab": {
          "base_uri": "https://localhost:8080/",
          "height": 170
        },
        "outputId": "8d99e671-2e5e-49e5-cb52-9a1f0a706f61"
      },
      "source": [
        "df['asset_class_cd'].value_counts()"
      ],
      "execution_count": null,
      "outputs": [
        {
          "output_type": "execute_result",
          "data": {
            "text/plain": [
              "S     8609\n",
              "?      319\n",
              "B      230\n",
              "L      144\n",
              "D      110\n",
              "M       78\n",
              "01       1\n",
              "-1       1\n",
              "Name: asset_class_cd, dtype: int64"
            ]
          },
          "metadata": {
            "tags": []
          },
          "execution_count": 13
        }
      ]
    },
    {
      "cell_type": "code",
      "metadata": {
        "id": "6q6epKMS44-d",
        "colab_type": "code",
        "colab": {
          "base_uri": "https://localhost:8080/",
          "height": 102
        },
        "outputId": "df45466a-833f-4875-f924-f4bca1c71478"
      },
      "source": [
        "df[df['asset_class_cd'] == '01']['asset_class_cd']\n",
        "df['asset_class_cd'] = df['asset_class_cd'].fillna('Default')\n",
        "df['asset_class_cd'].iloc[42306] = 'Default'\n",
        "df['asset_class_cd'].iloc[14635] = 'Default'\n",
        "#df = pd.get_dummies(df, columns=['asset_class_cd'])"
      ],
      "execution_count": null,
      "outputs": [
        {
          "output_type": "stream",
          "text": [
            "/usr/local/lib/python3.6/dist-packages/pandas/core/indexing.py:671: SettingWithCopyWarning: \n",
            "A value is trying to be set on a copy of a slice from a DataFrame\n",
            "\n",
            "See the caveats in the documentation: https://pandas.pydata.org/pandas-docs/stable/user_guide/indexing.html#returning-a-view-versus-a-copy\n",
            "  self._setitem_with_indexer(indexer, value)\n"
          ],
          "name": "stderr"
        }
      ]
    },
    {
      "cell_type": "code",
      "metadata": {
        "id": "92b6U3z75ibp",
        "colab_type": "code",
        "colab": {
          "base_uri": "https://localhost:8080/",
          "height": 102
        },
        "outputId": "ce550ece-31a2-4feb-8c46-3c90c767666f"
      },
      "source": [
        "#asset_code no need\n",
        "df.asset_code.value_counts()"
      ],
      "execution_count": null,
      "outputs": [
        {
          "output_type": "execute_result",
          "data": {
            "text/plain": [
              "1.0     43715\n",
              "2.0      1164\n",
              "4.0       199\n",
              "19.0       62\n",
              "Name: asset_code, dtype: int64"
            ]
          },
          "metadata": {
            "tags": []
          },
          "execution_count": 15
        }
      ]
    },
    {
      "cell_type": "code",
      "metadata": {
        "id": "f-VfU9ZVgg6a",
        "colab_type": "code",
        "colab": {
          "base_uri": "https://localhost:8080/",
          "height": 102
        },
        "outputId": "6add76ce-3302-4789-e1eb-6d8913401bee"
      },
      "source": [
        "df.portfolio_type.value_counts()\n",
        "#df = pd.get_dummies(df, columns=['portfolio_type'])"
      ],
      "execution_count": null,
      "outputs": [
        {
          "output_type": "execute_result",
          "data": {
            "text/plain": [
              "R    26967\n",
              "I    17088\n",
              "M     1146\n",
              "F       15\n",
              "Name: portfolio_type, dtype: int64"
            ]
          },
          "metadata": {
            "tags": []
          },
          "execution_count": 16
        }
      ]
    },
    {
      "cell_type": "code",
      "metadata": {
        "id": "QaSEZNivgcQ8",
        "colab_type": "code",
        "colab": {}
      },
      "source": [
        "#gender(convert to numerical)\n",
        "#remove date_of_birth(converted to age group) , \n",
        "#remove education_level(education_num is there with better data and bcs both of them are categorical remove edu_level)\n",
        "#remove marital_status(converted to one_hot group)\n",
        "# remove relationship(corelated with marital_status so remove)\n",
        "#remove(hours_per_week,converted to group)\n",
        "#remove address,email (no use)\n",
        "#remove inquiry_purpose_code(converted to group)\n",
        "#remove institute_type no use\n",
        "# remove account_type lots of categories\n",
        "#remove 'asset_class_cd' (converted to dummy)\n",
        "#remove asset_code\n",
        "# remove portfolio_type"
      ],
      "execution_count": null,
      "outputs": []
    },
    {
      "cell_type": "code",
      "metadata": {
        "id": "SQ65klRKPWqd",
        "colab_type": "code",
        "colab": {}
      },
      "source": [
        "df = df.drop(['user_id', 'education_level', 'relationship', 'hours_per_week', 'address', 'email', 'inquiry_purpose_code','asset_code'], axis=1)"
      ],
      "execution_count": null,
      "outputs": []
    },
    {
      "cell_type": "code",
      "metadata": {
        "id": "2HrpAdz3N8jE",
        "colab_type": "code",
        "colab": {}
      },
      "source": [
        "df = df.drop(['date_of_birth'],axis = 1)\n",
        "\n"
      ],
      "execution_count": null,
      "outputs": []
    },
    {
      "cell_type": "code",
      "metadata": {
        "id": "Ag2EkLENP3Sv",
        "colab_type": "code",
        "colab": {}
      },
      "source": [
        "df = df.drop(['marital_status'],axis = 1)\n",
        "\n"
      ],
      "execution_count": null,
      "outputs": []
    },
    {
      "cell_type": "code",
      "metadata": {
        "id": "vXiFmQZlCYpk",
        "colab_type": "code",
        "colab": {
          "base_uri": "https://localhost:8080/",
          "height": 258
        },
        "outputId": "aecb3a06-d082-46c0-ce9f-0497dc980d4d"
      },
      "source": [
        "df.head()"
      ],
      "execution_count": null,
      "outputs": [
        {
          "output_type": "execute_result",
          "data": {
            "text/html": [
              "<div>\n",
              "<style scoped>\n",
              "    .dataframe tbody tr th:only-of-type {\n",
              "        vertical-align: middle;\n",
              "    }\n",
              "\n",
              "    .dataframe tbody tr th {\n",
              "        vertical-align: top;\n",
              "    }\n",
              "\n",
              "    .dataframe thead th {\n",
              "        text-align: right;\n",
              "    }\n",
              "</style>\n",
              "<table border=\"1\" class=\"dataframe\">\n",
              "  <thead>\n",
              "    <tr style=\"text-align: right;\">\n",
              "      <th></th>\n",
              "      <th>gender</th>\n",
              "      <th>workclass</th>\n",
              "      <th>education_num</th>\n",
              "      <th>occupation</th>\n",
              "      <th>capital_gain</th>\n",
              "      <th>capital_loss</th>\n",
              "      <th>approved</th>\n",
              "      <th>institute_type</th>\n",
              "      <th>account_type</th>\n",
              "      <th>asset_class_cd</th>\n",
              "      <th>portfolio_type</th>\n",
              "      <th>age</th>\n",
              "      <th>marital_status_less</th>\n",
              "      <th>hours_</th>\n",
              "      <th>loan_type_</th>\n",
              "    </tr>\n",
              "  </thead>\n",
              "  <tbody>\n",
              "    <tr>\n",
              "      <th>0</th>\n",
              "      <td>1</td>\n",
              "      <td>Private</td>\n",
              "      <td>7</td>\n",
              "      <td>Sales</td>\n",
              "      <td>0</td>\n",
              "      <td>0</td>\n",
              "      <td>0</td>\n",
              "      <td>PVT</td>\n",
              "      <td>5</td>\n",
              "      <td>Default</td>\n",
              "      <td>R</td>\n",
              "      <td>33</td>\n",
              "      <td>never_married</td>\n",
              "      <td>part_time</td>\n",
              "      <td>small</td>\n",
              "    </tr>\n",
              "    <tr>\n",
              "      <th>1</th>\n",
              "      <td>0</td>\n",
              "      <td>Self-emp-not-inc</td>\n",
              "      <td>10</td>\n",
              "      <td>Craft-repair</td>\n",
              "      <td>0</td>\n",
              "      <td>0</td>\n",
              "      <td>0</td>\n",
              "      <td>NBF</td>\n",
              "      <td>5</td>\n",
              "      <td>Default</td>\n",
              "      <td>R</td>\n",
              "      <td>50</td>\n",
              "      <td>married</td>\n",
              "      <td>over_time</td>\n",
              "      <td>large</td>\n",
              "    </tr>\n",
              "    <tr>\n",
              "      <th>2</th>\n",
              "      <td>0</td>\n",
              "      <td>Private</td>\n",
              "      <td>9</td>\n",
              "      <td>Sales</td>\n",
              "      <td>0</td>\n",
              "      <td>0</td>\n",
              "      <td>0</td>\n",
              "      <td>NBF</td>\n",
              "      <td>5</td>\n",
              "      <td>Default</td>\n",
              "      <td>R</td>\n",
              "      <td>47</td>\n",
              "      <td>not_married</td>\n",
              "      <td>over_time</td>\n",
              "      <td>large</td>\n",
              "    </tr>\n",
              "    <tr>\n",
              "      <th>3</th>\n",
              "      <td>1</td>\n",
              "      <td>Private</td>\n",
              "      <td>7</td>\n",
              "      <td>Sales</td>\n",
              "      <td>0</td>\n",
              "      <td>0</td>\n",
              "      <td>0</td>\n",
              "      <td>NBF</td>\n",
              "      <td>5</td>\n",
              "      <td>Default</td>\n",
              "      <td>R</td>\n",
              "      <td>18</td>\n",
              "      <td>never_married</td>\n",
              "      <td>part_time</td>\n",
              "      <td>large</td>\n",
              "    </tr>\n",
              "    <tr>\n",
              "      <th>4</th>\n",
              "      <td>0</td>\n",
              "      <td>Private</td>\n",
              "      <td>10</td>\n",
              "      <td>Handlers-cleaners</td>\n",
              "      <td>0</td>\n",
              "      <td>0</td>\n",
              "      <td>0</td>\n",
              "      <td>PVT</td>\n",
              "      <td>47</td>\n",
              "      <td>S</td>\n",
              "      <td>I</td>\n",
              "      <td>34</td>\n",
              "      <td>married</td>\n",
              "      <td>over_time</td>\n",
              "      <td>large</td>\n",
              "    </tr>\n",
              "  </tbody>\n",
              "</table>\n",
              "</div>"
            ],
            "text/plain": [
              "   gender          workclass  ...     hours_ loan_type_\n",
              "0       1            Private  ...  part_time      small\n",
              "1       0   Self-emp-not-inc  ...  over_time      large\n",
              "2       0            Private  ...  over_time      large\n",
              "3       1            Private  ...  part_time      large\n",
              "4       0            Private  ...  over_time      large\n",
              "\n",
              "[5 rows x 15 columns]"
            ]
          },
          "metadata": {
            "tags": []
          },
          "execution_count": 21
        }
      ]
    },
    {
      "cell_type": "code",
      "metadata": {
        "id": "JCJFxzGNVZA-",
        "colab_type": "code",
        "colab": {
          "base_uri": "https://localhost:8080/",
          "height": 289
        },
        "outputId": "7e82ab6c-c6ea-44bf-c289-f21770ffdc29"
      },
      "source": [
        "df.dtypes"
      ],
      "execution_count": null,
      "outputs": [
        {
          "output_type": "execute_result",
          "data": {
            "text/plain": [
              "gender                    int64\n",
              "workclass                object\n",
              "education_num             int64\n",
              "occupation               object\n",
              "capital_gain              int64\n",
              "capital_loss              int64\n",
              "approved                  int64\n",
              "institute_type           object\n",
              "account_type              int64\n",
              "asset_class_cd           object\n",
              "portfolio_type           object\n",
              "age                       int64\n",
              "marital_status_less      object\n",
              "hours_                 category\n",
              "loan_type_               object\n",
              "dtype: object"
            ]
          },
          "metadata": {
            "tags": []
          },
          "execution_count": 22
        }
      ]
    },
    {
      "cell_type": "code",
      "metadata": {
        "id": "_YAKlkAuWRu_",
        "colab_type": "code",
        "colab": {}
      },
      "source": [
        ""
      ],
      "execution_count": null,
      "outputs": []
    },
    {
      "cell_type": "code",
      "metadata": {
        "id": "xvsYrq8icTqa",
        "colab_type": "code",
        "colab": {
          "base_uri": "https://localhost:8080/",
          "height": 289
        },
        "outputId": "79f241ea-13be-45f9-ebc0-28d82afb0612"
      },
      "source": [
        "df.dtypes"
      ],
      "execution_count": null,
      "outputs": [
        {
          "output_type": "execute_result",
          "data": {
            "text/plain": [
              "gender                    int64\n",
              "workclass                object\n",
              "education_num             int64\n",
              "occupation               object\n",
              "capital_gain              int64\n",
              "capital_loss              int64\n",
              "approved                  int64\n",
              "institute_type           object\n",
              "account_type              int64\n",
              "asset_class_cd           object\n",
              "portfolio_type           object\n",
              "age                       int64\n",
              "marital_status_less      object\n",
              "hours_                 category\n",
              "loan_type_               object\n",
              "dtype: object"
            ]
          },
          "metadata": {
            "tags": []
          },
          "execution_count": 35
        }
      ]
    },
    {
      "cell_type": "code",
      "metadata": {
        "id": "xrK7pR2Q_hgm",
        "colab_type": "code",
        "colab": {
          "base_uri": "https://localhost:8080/",
          "height": 136
        },
        "outputId": "e70f0ed0-7e85-433f-ab65-b556ecb73a32"
      },
      "source": [
        "for i in ['gender', 'workclass', 'education_num', 'occupation', 'capital_gain','capital_loss', 'approved', 'institute_type', 'account_type','asset_class_cd', 'portfolio_type', 'age', 'marital_status_less','hours_', 'loan_type_']:\n",
        "  if str(df[i].dtype) == 'object':\n",
        "    print(i)\n",
        "    df[i] = df[i].astype('str')\n",
        "    #df[i]=df[i].apply(pd.to_numeric, errors='coerce')"
      ],
      "execution_count": null,
      "outputs": [
        {
          "output_type": "stream",
          "text": [
            "workclass\n",
            "occupation\n",
            "institute_type\n",
            "asset_class_cd\n",
            "portfolio_type\n",
            "marital_status_less\n",
            "loan_type_\n"
          ],
          "name": "stdout"
        }
      ]
    },
    {
      "cell_type": "code",
      "metadata": {
        "id": "QY02S_WSS4dj",
        "colab_type": "code",
        "colab": {}
      },
      "source": [
        "import numpy as np\n",
        "import pandas as pd\n",
        "\n",
        "import tensorflow as tf\n",
        "\n",
        "from tensorflow import feature_column\n",
        "from tensorflow.keras import layers\n",
        "from sklearn.model_selection import train_test_split"
      ],
      "execution_count": null,
      "outputs": []
    },
    {
      "cell_type": "code",
      "metadata": {
        "id": "JwvcYI1oF2h8",
        "colab_type": "code",
        "colab": {
          "base_uri": "https://localhost:8080/",
          "height": 258
        },
        "outputId": "c55ea252-ed0c-4fba-af28-f94fdcb4b61d"
      },
      "source": [
        "df.head()"
      ],
      "execution_count": null,
      "outputs": [
        {
          "output_type": "execute_result",
          "data": {
            "text/html": [
              "<div>\n",
              "<style scoped>\n",
              "    .dataframe tbody tr th:only-of-type {\n",
              "        vertical-align: middle;\n",
              "    }\n",
              "\n",
              "    .dataframe tbody tr th {\n",
              "        vertical-align: top;\n",
              "    }\n",
              "\n",
              "    .dataframe thead th {\n",
              "        text-align: right;\n",
              "    }\n",
              "</style>\n",
              "<table border=\"1\" class=\"dataframe\">\n",
              "  <thead>\n",
              "    <tr style=\"text-align: right;\">\n",
              "      <th></th>\n",
              "      <th>gender</th>\n",
              "      <th>workclass</th>\n",
              "      <th>education_num</th>\n",
              "      <th>occupation</th>\n",
              "      <th>capital_gain</th>\n",
              "      <th>capital_loss</th>\n",
              "      <th>approved</th>\n",
              "      <th>institute_type</th>\n",
              "      <th>account_type</th>\n",
              "      <th>asset_class_cd</th>\n",
              "      <th>portfolio_type</th>\n",
              "      <th>age</th>\n",
              "      <th>marital_status_less</th>\n",
              "      <th>hours_</th>\n",
              "      <th>loan_type_</th>\n",
              "    </tr>\n",
              "  </thead>\n",
              "  <tbody>\n",
              "    <tr>\n",
              "      <th>0</th>\n",
              "      <td>1</td>\n",
              "      <td>Private</td>\n",
              "      <td>7</td>\n",
              "      <td>Sales</td>\n",
              "      <td>0</td>\n",
              "      <td>0</td>\n",
              "      <td>0</td>\n",
              "      <td>PVT</td>\n",
              "      <td>5</td>\n",
              "      <td>Default</td>\n",
              "      <td>R</td>\n",
              "      <td>33</td>\n",
              "      <td>never_married</td>\n",
              "      <td>part_time</td>\n",
              "      <td>small</td>\n",
              "    </tr>\n",
              "    <tr>\n",
              "      <th>1</th>\n",
              "      <td>0</td>\n",
              "      <td>Self-emp-not-inc</td>\n",
              "      <td>10</td>\n",
              "      <td>Craft-repair</td>\n",
              "      <td>0</td>\n",
              "      <td>0</td>\n",
              "      <td>0</td>\n",
              "      <td>NBF</td>\n",
              "      <td>5</td>\n",
              "      <td>Default</td>\n",
              "      <td>R</td>\n",
              "      <td>50</td>\n",
              "      <td>married</td>\n",
              "      <td>over_time</td>\n",
              "      <td>large</td>\n",
              "    </tr>\n",
              "    <tr>\n",
              "      <th>2</th>\n",
              "      <td>0</td>\n",
              "      <td>Private</td>\n",
              "      <td>9</td>\n",
              "      <td>Sales</td>\n",
              "      <td>0</td>\n",
              "      <td>0</td>\n",
              "      <td>0</td>\n",
              "      <td>NBF</td>\n",
              "      <td>5</td>\n",
              "      <td>Default</td>\n",
              "      <td>R</td>\n",
              "      <td>47</td>\n",
              "      <td>not_married</td>\n",
              "      <td>over_time</td>\n",
              "      <td>large</td>\n",
              "    </tr>\n",
              "    <tr>\n",
              "      <th>3</th>\n",
              "      <td>1</td>\n",
              "      <td>Private</td>\n",
              "      <td>7</td>\n",
              "      <td>Sales</td>\n",
              "      <td>0</td>\n",
              "      <td>0</td>\n",
              "      <td>0</td>\n",
              "      <td>NBF</td>\n",
              "      <td>5</td>\n",
              "      <td>Default</td>\n",
              "      <td>R</td>\n",
              "      <td>18</td>\n",
              "      <td>never_married</td>\n",
              "      <td>part_time</td>\n",
              "      <td>large</td>\n",
              "    </tr>\n",
              "    <tr>\n",
              "      <th>4</th>\n",
              "      <td>0</td>\n",
              "      <td>Private</td>\n",
              "      <td>10</td>\n",
              "      <td>Handlers-cleaners</td>\n",
              "      <td>0</td>\n",
              "      <td>0</td>\n",
              "      <td>0</td>\n",
              "      <td>PVT</td>\n",
              "      <td>47</td>\n",
              "      <td>S</td>\n",
              "      <td>I</td>\n",
              "      <td>34</td>\n",
              "      <td>married</td>\n",
              "      <td>over_time</td>\n",
              "      <td>large</td>\n",
              "    </tr>\n",
              "  </tbody>\n",
              "</table>\n",
              "</div>"
            ],
            "text/plain": [
              "   gender          workclass  ...     hours_ loan_type_\n",
              "0       1            Private  ...  part_time      small\n",
              "1       0   Self-emp-not-inc  ...  over_time      large\n",
              "2       0            Private  ...  over_time      large\n",
              "3       1            Private  ...  part_time      large\n",
              "4       0            Private  ...  over_time      large\n",
              "\n",
              "[5 rows x 15 columns]"
            ]
          },
          "metadata": {
            "tags": []
          },
          "execution_count": 26
        }
      ]
    },
    {
      "cell_type": "code",
      "metadata": {
        "id": "8llwd9jAQBKr",
        "colab_type": "code",
        "colab": {
          "base_uri": "https://localhost:8080/",
          "height": 85
        },
        "outputId": "37568186-ba62-441d-b715-e71bab764919"
      },
      "source": [
        "df.account_type.value_counts().index"
      ],
      "execution_count": null,
      "outputs": [
        {
          "output_type": "execute_result",
          "data": {
            "text/plain": [
              "Int64Index([  5, 189, 123,  47, 173, 191,  58, 130, 999, 121, 178, 184, 177,\n",
              "            176, 224, 227, 195, 172, 213, 179, 221, 185, 226, 181, 187, 228,\n",
              "            240, 167, 223, 198, 170, 197, 175, 168, 220, 222, 214],\n",
              "           dtype='int64')"
            ]
          },
          "metadata": {
            "tags": []
          },
          "execution_count": 27
        }
      ]
    },
    {
      "cell_type": "code",
      "metadata": {
        "id": "6IcNwN4LA0mR",
        "colab_type": "code",
        "colab": {}
      },
      "source": [
        "tf.keras.backend.set_floatx('float64')"
      ],
      "execution_count": null,
      "outputs": []
    },
    {
      "cell_type": "code",
      "metadata": {
        "id": "xw5ESZ3gOmka",
        "colab_type": "code",
        "colab": {}
      },
      "source": [
        "feature_columns = []\n",
        "\n",
        "# numeric cols\n",
        "for header in ['gender', 'education_num', 'capital_gain', 'capital_loss']:\n",
        "  feature_columns.append(feature_column.numeric_column(header))\n",
        "\n",
        "# bucketized cols\n",
        "age = feature_column.numeric_column(\"age\")\n",
        "age_buckets = feature_column.bucketized_column(age, boundaries=[25,45,65,110])\n",
        "feature_columns.append(age_buckets)\n",
        "\n",
        "# indicator cols\n",
        "workclass = feature_column.categorical_column_with_vocabulary_list(\n",
        "      'workclass', [' Private', ' Self-emp-not-inc', ' Local-gov', ' State-gov',' Self-emp-inc', ' Federal-gov', ' Without-pay'])\n",
        "workclass_one_hot = feature_column.indicator_column(workclass)\n",
        "feature_columns.append(workclass_one_hot)\n",
        "\n",
        "\n",
        "occupation = feature_column.categorical_column_with_vocabulary_list(\n",
        "      'occupation', [' Craft-repair', ' Prof-specialty', ' Exec-managerial', ' Adm-clerical',\n",
        "       ' Sales', ' Other-service', ' Machine-op-inspct', ' Transport-moving',\n",
        "       ' Handlers-cleaners', ' Farming-fishing', ' Tech-support',\n",
        "       ' Protective-serv', ' Priv-house-serv', ' Armed-Forces'])\n",
        "occupation_one_hot = feature_column.indicator_column(occupation)\n",
        "feature_columns.append(occupation_one_hot)\n",
        "\n",
        "institute_type = feature_column.categorical_column_with_vocabulary_list(\n",
        "      'institute_type', ['PVT', 'NBF', 'PUB', 'HFC', 'BRO', 'FOR', 'INS', 'COB', 'SRC', 'TEL'])\n",
        "institute_type_one_hot = feature_column.indicator_column(institute_type)\n",
        "feature_columns.append(institute_type_one_hot)\n",
        "\n",
        "asset_class_cd = feature_column.categorical_column_with_vocabulary_list(\n",
        "      'asset_class_cd', ['Default', 'S', '?', 'B', 'L', 'D', 'M'])\n",
        "asset_class_cd_one_hot = feature_column.indicator_column(asset_class_cd)\n",
        "feature_columns.append(asset_class_cd_one_hot)\n",
        "\n",
        "portfolio_type = feature_column.categorical_column_with_vocabulary_list(\n",
        "      'portfolio_type', ['R', 'I', 'M', 'F'])\n",
        "portfolio_type_one_hot = feature_column.indicator_column(portfolio_type)\n",
        "feature_columns.append(portfolio_type_one_hot)\n",
        "\n",
        "\n",
        "marital_status_less = feature_column.categorical_column_with_vocabulary_list(\n",
        "      'marital_status_less', ['married', ' never_married', 'not_married'])\n",
        "marital_status_less_one_hot = feature_column.indicator_column(marital_status_less)\n",
        "feature_columns.append(marital_status_less_one_hot)\n",
        "\n",
        "\n",
        "hours_ = feature_column.categorical_column_with_vocabulary_list(\n",
        "      'hours_', ['over_time', 'full_time', 'part_time'])\n",
        "hours__one_hot = feature_column.indicator_column(hours_)\n",
        "feature_columns.append(hours__one_hot)\n",
        "\n",
        "\n",
        "loan_type_ = feature_column.categorical_column_with_vocabulary_list(\n",
        "      'loan_type_', ['large', 'small', 'other'])\n",
        "loan_type__one_hot = feature_column.indicator_column(loan_type_)\n",
        "feature_columns.append(loan_type__one_hot)\n",
        "\n",
        "# embedding cols\n",
        "account_type = feature_column.categorical_column_with_vocabulary_list(\n",
        "      'account_type', [  5, 189, 123,  47, 173, 191,  58, 130, 999, 121, 178, 184, 177,\n",
        "            176, 224, 227, 195, 172, 213, 179, 221, 185, 226, 181, 187, 228,\n",
        "            240, 167, 223, 198, 170, 197, 175, 168, 220, 222, 214])\n",
        "account_type_embedding = feature_column.embedding_column(account_type, dimension=12)\n",
        "feature_columns.append(account_type_embedding)\n",
        "\n",
        "# crossed cols\n",
        "#crossed_feature = feature_column.crossed_column([age_buckets, thal], hash_bucket_size=1000)\n",
        "#crossed_feature = feature_column.indicator_column(crossed_feature)\n",
        "#feature_columns.append(crossed_feature)"
      ],
      "execution_count": null,
      "outputs": []
    },
    {
      "cell_type": "code",
      "metadata": {
        "id": "o5pWGzwyUwdD",
        "colab_type": "code",
        "colab": {}
      },
      "source": [
        "feature_layer = tf.keras.layers.DenseFeatures(feature_columns)"
      ],
      "execution_count": null,
      "outputs": []
    },
    {
      "cell_type": "code",
      "metadata": {
        "id": "AbzdIWpjBn27",
        "colab_type": "code",
        "colab": {
          "base_uri": "https://localhost:8080/",
          "height": 68
        },
        "outputId": "488d95ee-f334-44de-d611-8df12652fdba"
      },
      "source": [
        "train, test = train_test_split(df, test_size=0.2)\n",
        "train, val = train_test_split(train, test_size=0.25)\n",
        "print(len(train), 'train examples')\n",
        "print(len(val), 'validation examples')\n",
        "print(len(test), 'test examples')"
      ],
      "execution_count": null,
      "outputs": [
        {
          "output_type": "stream",
          "text": [
            "27132 train examples\n",
            "9045 validation examples\n",
            "9045 test examples\n"
          ],
          "name": "stdout"
        }
      ]
    },
    {
      "cell_type": "code",
      "metadata": {
        "id": "fzVHuOAnaqZh",
        "colab_type": "code",
        "colab": {}
      },
      "source": [
        "# A utility method to create a tf.data dataset from a Pandas Dataframe\n",
        "def df_to_dataset(dataframe, shuffle=True, batch_size=32):\n",
        "  dataframe = dataframe.copy()\n",
        "  labels = dataframe.pop('approved')\n",
        "  ds = tf.data.Dataset.from_tensor_slices((dict(dataframe), labels))\n",
        "  if shuffle:\n",
        "    ds = ds.shuffle(buffer_size=len(dataframe))\n",
        "  ds = ds.batch(batch_size)\n",
        "  return ds"
      ],
      "execution_count": null,
      "outputs": []
    },
    {
      "cell_type": "code",
      "metadata": {
        "id": "LLbpTT9cU8bs",
        "colab_type": "code",
        "colab": {}
      },
      "source": [
        "batch_size = 64\n",
        "train_ds = df_to_dataset(train, batch_size=batch_size)\n",
        "val_ds = df_to_dataset(val, shuffle=True, batch_size=batch_size)\n",
        "test_ds = df_to_dataset(test, shuffle=True, batch_size=batch_size)"
      ],
      "execution_count": null,
      "outputs": []
    },
    {
      "cell_type": "code",
      "metadata": {
        "id": "DtHEmeMfmkLg",
        "colab_type": "code",
        "colab": {}
      },
      "source": [
        ""
      ],
      "execution_count": null,
      "outputs": []
    },
    {
      "cell_type": "code",
      "metadata": {
        "id": "O3UsE1F4BnrL",
        "colab_type": "code",
        "colab": {
          "base_uri": "https://localhost:8080/",
          "height": 496
        },
        "outputId": "14979e5a-88e6-4957-9b01-bbd733fc2789"
      },
      "source": [
        "model = tf.keras.Sequential([\n",
        "  feature_layer,\n",
        "  layers.Dense(128, activation='relu'),\n",
        "  layers.Dense(128, activation='relu'),\n",
        "  layers.Dense(64, activation='relu'),\n",
        "  layers.Dense(1)\n",
        "])\n",
        "\n",
        "model.compile(optimizer='adam',\n",
        "              loss=tf.keras.losses.BinaryCrossentropy(from_logits=True),\n",
        "              metrics=['accuracy'])\n",
        "\n",
        "model.fit(train_ds,\n",
        "          validation_data=val_ds,\n",
        "          epochs=10)"
      ],
      "execution_count": null,
      "outputs": [
        {
          "output_type": "stream",
          "text": [
            "Epoch 1/10\n",
            "WARNING:tensorflow:Layer dense is casting an input tensor from dtype float32 to the layer's dtype of float64, which is new behavior in TensorFlow 2.  The layer has dtype float64 because it's dtype defaults to floatx.\n",
            "\n",
            "If you intended to run this layer in float64, you can safely ignore this warning. If in doubt, this warning is likely only an issue if you are porting a TensorFlow 1.X model to TensorFlow 2.\n",
            "\n",
            "To change all layers to have dtype float32 by default, call `tf.keras.backend.set_floatx('float32')`. To change just this layer, pass dtype='float32' to the layer constructor. If you are the author of this layer, you can disable autocasting by passing autocast=False to the base Layer constructor.\n",
            "\n",
            "424/424 [==============================] - 4s 10ms/step - loss: 4.8812 - accuracy: 0.7987 - val_loss: 5.3676 - val_accuracy: 0.8116\n",
            "Epoch 2/10\n",
            "424/424 [==============================] - 4s 9ms/step - loss: 1.2794 - accuracy: 0.8137 - val_loss: 0.3918 - val_accuracy: 0.8320\n",
            "Epoch 3/10\n",
            "424/424 [==============================] - 4s 9ms/step - loss: 0.6752 - accuracy: 0.8194 - val_loss: 0.9053 - val_accuracy: 0.8132\n",
            "Epoch 4/10\n",
            "424/424 [==============================] - 4s 9ms/step - loss: 0.4114 - accuracy: 0.8272 - val_loss: 0.3329 - val_accuracy: 0.8328\n",
            "Epoch 5/10\n",
            "424/424 [==============================] - 4s 9ms/step - loss: 0.6211 - accuracy: 0.8243 - val_loss: 0.3307 - val_accuracy: 0.8312\n",
            "Epoch 6/10\n",
            "424/424 [==============================] - 4s 9ms/step - loss: 0.3915 - accuracy: 0.8295 - val_loss: 0.3370 - val_accuracy: 0.8313\n",
            "Epoch 7/10\n",
            "424/424 [==============================] - 4s 9ms/step - loss: 0.3327 - accuracy: 0.8347 - val_loss: 0.3299 - val_accuracy: 0.8362\n",
            "Epoch 8/10\n",
            "424/424 [==============================] - 4s 9ms/step - loss: 0.3273 - accuracy: 0.8375 - val_loss: 0.3348 - val_accuracy: 0.8289\n",
            "Epoch 9/10\n",
            "424/424 [==============================] - 4s 9ms/step - loss: 0.3248 - accuracy: 0.8372 - val_loss: 0.3327 - val_accuracy: 0.8526\n",
            "Epoch 10/10\n",
            "424/424 [==============================] - 4s 9ms/step - loss: 0.4954 - accuracy: 0.8324 - val_loss: 0.3687 - val_accuracy: 0.8169\n"
          ],
          "name": "stdout"
        },
        {
          "output_type": "execute_result",
          "data": {
            "text/plain": [
              "<tensorflow.python.keras.callbacks.History at 0x7ff1400114a8>"
            ]
          },
          "metadata": {
            "tags": []
          },
          "execution_count": 41
        }
      ]
    },
    {
      "cell_type": "code",
      "metadata": {
        "id": "mNRBk8Nxf1dt",
        "colab_type": "code",
        "colab": {
          "base_uri": "https://localhost:8080/",
          "height": 51
        },
        "outputId": "3935496b-d25e-45c2-82b3-714800e85813"
      },
      "source": [
        "loss, accuracy = model.evaluate(test_ds)\n",
        "print(\"Accuracy\", accuracy)"
      ],
      "execution_count": null,
      "outputs": [
        {
          "output_type": "stream",
          "text": [
            "142/142 [==============================] - 0s 2ms/step - loss: 0.3312 - accuracy: 0.8332\n",
            "Accuracy 0.833167495854063\n"
          ],
          "name": "stdout"
        }
      ]
    },
    {
      "cell_type": "code",
      "metadata": {
        "id": "YxD2ABY5C4Ai",
        "colab_type": "code",
        "colab": {
          "base_uri": "https://localhost:8080/",
          "height": 1000
        },
        "outputId": "546f2f75-5028-4c8c-a376-0c9e05d3e4af"
      },
      "source": [
        "for i in test_ds.take(2):\n",
        "  print(i)"
      ],
      "execution_count": null,
      "outputs": [
        {
          "output_type": "stream",
          "text": [
            "({'gender': <tf.Tensor: shape=(64,), dtype=int64, numpy=\n",
            "array([0, 0, 0, 0, 0, 0, 0, 1, 0, 0, 0, 0, 1, 0, 0, 0, 0, 0, 1, 0, 1, 0,\n",
            "       0, 0, 0, 0, 0, 1, 1, 0, 0, 0, 0, 1, 0, 0, 0, 0, 0, 0, 0, 0, 0, 0,\n",
            "       0, 0, 0, 1, 0, 1, 1, 0, 0, 1, 0, 0, 0, 0, 0, 0, 0, 0, 0, 1])>, 'workclass': <tf.Tensor: shape=(64,), dtype=string, numpy=\n",
            "array([b' Self-emp-not-inc', b' Self-emp-not-inc', b' Private',\n",
            "       b' Self-emp-inc', b' Self-emp-not-inc', b' Private', b' Private',\n",
            "       b' Private', b' Private', b' Private', b' Private', b' Private',\n",
            "       b' State-gov', b' Private', b' Self-emp-not-inc', b' State-gov',\n",
            "       b' Local-gov', b' Private', b' Private', b' Self-emp-inc',\n",
            "       b' Private', b' Private', b' Private', b' State-gov', b' Private',\n",
            "       b' Private', b' Private', b' Private', b' Private', b' Private',\n",
            "       b' Private', b' Private', b' Private', b' Private',\n",
            "       b' Self-emp-not-inc', b' Self-emp-not-inc', b' Local-gov',\n",
            "       b' Private', b' Private', b' Private', b' Private', b' Private',\n",
            "       b' Private', b' Private', b' State-gov', b' Private', b' Private',\n",
            "       b' Private', b' Private', b' Private', b' Private', b' Local-gov',\n",
            "       b' Private', b' Private', b' Private', b' Private',\n",
            "       b' Self-emp-not-inc', b' Private', b' Private', b' Private',\n",
            "       b' Local-gov', b' Private', b' Private', b' Private'], dtype=object)>, 'education_num': <tf.Tensor: shape=(64,), dtype=int64, numpy=\n",
            "array([13, 13,  6, 15,  9, 14, 13,  9,  9, 13,  8, 13, 14, 10, 16, 10,  9,\n",
            "       11, 13, 14, 10,  9,  9, 13, 12,  9, 13, 12,  9,  2,  9, 10, 14,  4,\n",
            "        9,  9,  9,  9,  9, 10,  9,  9, 13,  9, 14, 10, 10,  9, 13, 10, 11,\n",
            "       10,  6,  7, 12,  9,  9,  9, 13, 10,  7, 13, 13,  9])>, 'occupation': <tf.Tensor: shape=(64,), dtype=string, numpy=\n",
            "array([b' Craft-repair', b' Farming-fishing', b' Farming-fishing',\n",
            "       b' Prof-specialty', b' Craft-repair', b' Sales', b' Tech-support',\n",
            "       b' Adm-clerical', b' Machine-op-inspct', b' Prof-specialty',\n",
            "       b' Transport-moving', b' Sales', b' Prof-specialty',\n",
            "       b' Other-service', b' Prof-specialty', b' Other-service',\n",
            "       b' Exec-managerial', b' Protective-serv', b' Exec-managerial',\n",
            "       b' Sales', b' Adm-clerical', b' Handlers-cleaners', b' Sales',\n",
            "       b' Adm-clerical', b' Exec-managerial', b' Transport-moving',\n",
            "       b' Handlers-cleaners', b' Adm-clerical', b' Adm-clerical',\n",
            "       b' Machine-op-inspct', b' Machine-op-inspct', b' Prof-specialty',\n",
            "       b' Exec-managerial', b' Machine-op-inspct', b' Sales',\n",
            "       b' Farming-fishing', b' Farming-fishing', b' Craft-repair',\n",
            "       b' Craft-repair', b' Transport-moving', b' Transport-moving',\n",
            "       b' Craft-repair', b' Exec-managerial', b' Craft-repair',\n",
            "       b' Exec-managerial', b' Tech-support', b' Adm-clerical',\n",
            "       b' Handlers-cleaners', b' Exec-managerial', b' Other-service',\n",
            "       b' Other-service', b' Exec-managerial', b' Machine-op-inspct',\n",
            "       b' Other-service', b' Prof-specialty', b' Machine-op-inspct',\n",
            "       b' Farming-fishing', b' Machine-op-inspct', b' Exec-managerial',\n",
            "       b' Craft-repair', b' Other-service', b' Exec-managerial',\n",
            "       b' Exec-managerial', b' Sales'], dtype=object)>, 'capital_gain': <tf.Tensor: shape=(64,), dtype=int64, numpy=\n",
            "array([15024,     0,     0,     0,     0,     0,     0,     0,     0,\n",
            "        3103,     0,     0,     0,     0,     0,     0,     0,     0,\n",
            "        8614,  6418,     0,     0,     0,     0,     0,     0,     0,\n",
            "           0,     0,     0,     0,     0, 15024,     0,     0,     0,\n",
            "           0,     0,     0,     0,     0,     0,     0,     0,     0,\n",
            "           0,     0,     0,     0,     0,     0, 15024,     0,     0,\n",
            "           0,     0,     0,     0,     0,     0,     0,     0,     0,\n",
            "           0])>, 'capital_loss': <tf.Tensor: shape=(64,), dtype=int64, numpy=\n",
            "array([   0,    0,    0,    0,    0,    0,    0,    0,    0,    0,    0,\n",
            "          0,    0,    0,    0,    0, 1887,    0,    0,    0,    0,    0,\n",
            "          0,    0,    0,    0,    0,    0,    0,    0,    0,    0,    0,\n",
            "          0,    0,    0, 1719,    0,    0,    0,    0,    0, 1902,    0,\n",
            "          0,    0,    0,    0,    0,    0,    0,    0,    0,    0,    0,\n",
            "       2051,    0,    0,    0,    0,    0,    0,    0, 1974])>, 'institute_type': <tf.Tensor: shape=(64,), dtype=string, numpy=\n",
            "array([b'PVT', b'PVT', b'NBF', b'PVT', b'PVT', b'PVT', b'NBF', b'NBF',\n",
            "       b'PVT', b'PUB', b'HFC', b'NBF', b'PVT', b'NBF', b'NBF', b'PVT',\n",
            "       b'PVT', b'NBF', b'NBF', b'NBF', b'PVT', b'PVT', b'PVT', b'PVT',\n",
            "       b'PVT', b'PVT', b'PVT', b'NBF', b'PVT', b'PVT', b'PVT', b'NBF',\n",
            "       b'PVT', b'PVT', b'PVT', b'PVT', b'PUB', b'PVT', b'PUB', b'NBF',\n",
            "       b'PVT', b'NBF', b'PVT', b'PVT', b'PVT', b'PVT', b'PVT', b'PVT',\n",
            "       b'NBF', b'PVT', b'NBF', b'PVT', b'PVT', b'NBF', b'PVT', b'PVT',\n",
            "       b'NBF', b'NBF', b'PVT', b'NBF', b'PUB', b'PVT', b'PVT', b'PVT'],\n",
            "      dtype=object)>, 'account_type': <tf.Tensor: shape=(64,), dtype=int64, numpy=\n",
            "array([  5,   5, 189,   5,   5,   5,   5,   5,   5,  47,  58, 189,  58,\n",
            "       189,   5,   5,   5, 189, 123,   5,   5, 176,   5,   5,   5,   5,\n",
            "         5, 189, 189, 123,   5, 123,   5, 189, 191,   5,  47, 173,  47,\n",
            "         5,   5,   5,   5,   5,   5,   5, 189, 123, 227, 189,   5,   5,\n",
            "         5, 191,   5,   5, 189, 189,   5,   5,  58,   5,   5, 178])>, 'asset_class_cd': <tf.Tensor: shape=(64,), dtype=string, numpy=\n",
            "array([b'Default', b'Default', b'Default', b'Default', b'Default',\n",
            "       b'Default', b'Default', b'Default', b'Default', b'S', b'S', b'S',\n",
            "       b'Default', b'Default', b'Default', b'Default', b'Default',\n",
            "       b'Default', b'S', b'Default', b'Default', b'S', b'Default',\n",
            "       b'Default', b'Default', b'Default', b'Default', b'Default',\n",
            "       b'Default', b'S', b'Default', b'S', b'Default', b'Default', b'S',\n",
            "       b'Default', b'S', b'S', b'S', b'Default', b'Default', b'Default',\n",
            "       b'Default', b'Default', b'Default', b'Default', b'S', b'Default',\n",
            "       b'S', b'S', b'Default', b'Default', b'Default', b'S', b'Default',\n",
            "       b'Default', b'S', b'Default', b'Default', b'Default', b'S',\n",
            "       b'Default', b'Default', b'S'], dtype=object)>, 'portfolio_type': <tf.Tensor: shape=(64,), dtype=string, numpy=\n",
            "array([b'R', b'R', b'I', b'R', b'R', b'R', b'R', b'R', b'R', b'I', b'M',\n",
            "       b'I', b'M', b'I', b'R', b'R', b'R', b'I', b'I', b'R', b'R', b'I',\n",
            "       b'R', b'R', b'R', b'R', b'R', b'I', b'I', b'I', b'R', b'I', b'R',\n",
            "       b'I', b'I', b'R', b'I', b'I', b'I', b'R', b'R', b'R', b'R', b'R',\n",
            "       b'R', b'R', b'I', b'I', b'I', b'I', b'R', b'R', b'R', b'I', b'R',\n",
            "       b'R', b'I', b'I', b'R', b'R', b'M', b'R', b'R', b'I'], dtype=object)>, 'age': <tf.Tensor: shape=(64,), dtype=int64, numpy=\n",
            "array([42, 50, 23, 46, 22, 47, 42, 62, 36, 33, 59, 37, 59, 24, 68, 41, 43,\n",
            "       30, 56, 64, 39, 20, 40, 41, 52, 31, 40, 34, 21, 52, 56, 29, 41, 35,\n",
            "       42, 32, 25, 40, 21, 42, 38, 32, 50, 36, 61, 29, 23, 57, 31, 65, 21,\n",
            "       42, 25, 53, 44, 34, 48, 35, 48, 53, 21, 50, 51, 56])>, 'marital_status_less': <tf.Tensor: shape=(64,), dtype=string, numpy=\n",
            "array([b'married', b'married', b'married', b'married', b' never_married',\n",
            "       b'married', b'married', b'married', b'married', b'married',\n",
            "       b'not_married', b' never_married', b'not_married',\n",
            "       b' never_married', b'married', b'not_married', b'married',\n",
            "       b' never_married', b' never_married', b'married', b'not_married',\n",
            "       b' never_married', b' never_married', b' never_married',\n",
            "       b'married', b'married', b'married', b' never_married',\n",
            "       b' never_married', b'married', b'married', b' never_married',\n",
            "       b'married', b' never_married', b'married', b'not_married',\n",
            "       b' never_married', b'married', b' never_married', b'married',\n",
            "       b'married', b' never_married', b'married', b'married', b'married',\n",
            "       b'not_married', b' never_married', b'not_married',\n",
            "       b' never_married', b'not_married', b' never_married', b'married',\n",
            "       b' never_married', b'not_married', b'married', b'married',\n",
            "       b'married', b'married', b'married', b'married', b' never_married',\n",
            "       b' never_married', b'married', b'not_married'], dtype=object)>, 'hours_': <tf.Tensor: shape=(64,), dtype=string, numpy=\n",
            "array([b'over_time', b'over_time', b'over_time', b'over_time',\n",
            "       b'part_time', b'over_time', b'over_time', b'over_time',\n",
            "       b'over_time', b'over_time', b'full_time', b'over_time',\n",
            "       b'over_time', b'full_time', b'over_time', b'part_time',\n",
            "       b'over_time', b'over_time', b'over_time', b'over_time',\n",
            "       b'full_time', b'over_time', b'over_time', b'over_time',\n",
            "       b'over_time', b'over_time', b'over_time', b'full_time',\n",
            "       b'full_time', b'over_time', b'over_time', b'over_time',\n",
            "       b'over_time', b'full_time', b'over_time', b'over_time',\n",
            "       b'part_time', b'full_time', b'over_time', b'over_time',\n",
            "       b'over_time', b'over_time', b'over_time', b'over_time',\n",
            "       b'over_time', b'over_time', b'full_time', b'over_time',\n",
            "       b'over_time', b'part_time', b'over_time', b'over_time',\n",
            "       b'over_time', b'over_time', b'over_time', b'over_time',\n",
            "       b'over_time', b'over_time', b'over_time', b'over_time',\n",
            "       b'full_time', b'over_time', b'over_time', b'over_time'],\n",
            "      dtype=object)>, 'loan_type_': <tf.Tensor: shape=(64,), dtype=string, numpy=\n",
            "array([b'small', b'small', b'small', b'large', b'small', b'large',\n",
            "       b'large', b'large', b'large', b'small', b'other', b'large',\n",
            "       b'small', b'large', b'large', b'large', b'small', b'large',\n",
            "       b'large', b'small', b'large', b'small', b'small', b'large',\n",
            "       b'small', b'other', b'other', b'large', b'large', b'large',\n",
            "       b'large', b'large', b'other', b'small', b'other', b'large',\n",
            "       b'small', b'small', b'small', b'large', b'large', b'large',\n",
            "       b'small', b'other', b'large', b'other', b'large', b'large',\n",
            "       b'large', b'small', b'large', b'small', b'other', b'large',\n",
            "       b'small', b'large', b'small', b'large', b'small', b'large',\n",
            "       b'large', b'small', b'large', b'small'], dtype=object)>}, <tf.Tensor: shape=(64,), dtype=int64, numpy=\n",
            "array([1, 0, 0, 1, 0, 1, 1, 0, 0, 1, 0, 0, 0, 0, 0, 0, 1, 0, 1, 1, 0, 0,\n",
            "       0, 0, 1, 0, 1, 0, 0, 0, 0, 0, 1, 0, 0, 0, 0, 0, 0, 0, 0, 0, 1, 1,\n",
            "       1, 0, 0, 0, 0, 0, 0, 1, 0, 0, 1, 0, 0, 0, 1, 1, 0, 0, 1, 0])>)\n",
            "({'gender': <tf.Tensor: shape=(64,), dtype=int64, numpy=\n",
            "array([1, 0, 0, 0, 0, 0, 0, 0, 0, 0, 0, 0, 0, 0, 1, 1, 0, 0, 0, 0, 1, 0,\n",
            "       0, 0, 0, 0, 1, 1, 1, 1, 0, 0, 1, 0, 0, 0, 0, 0, 0, 0, 0, 0, 0, 0,\n",
            "       0, 0, 0, 0, 0, 1, 0, 0, 0, 0, 1, 1, 0, 0, 0, 0, 0, 0, 0, 0])>, 'workclass': <tf.Tensor: shape=(64,), dtype=string, numpy=\n",
            "array([b' State-gov', b' Private', b' Private', b' Private',\n",
            "       b' Federal-gov', b' Local-gov', b' Private', b' Private',\n",
            "       b' Private', b' Private', b' Private', b' Self-emp-inc',\n",
            "       b' Private', b' Local-gov', b' Private', b' Private',\n",
            "       b' State-gov', b' Private', b' Private', b' Private',\n",
            "       b' Self-emp-inc', b' State-gov', b' Local-gov', b' Private',\n",
            "       b' Self-emp-inc', b' Federal-gov', b' Private', b' Private',\n",
            "       b' State-gov', b' Private', b' Private', b' Private',\n",
            "       b' Federal-gov', b' Private', b' Private', b' Private',\n",
            "       b' Private', b' Private', b' Private', b' Federal-gov',\n",
            "       b' Private', b' Self-emp-not-inc', b' Private', b' Private',\n",
            "       b' Private', b' Private', b' Private', b' Self-emp-not-inc',\n",
            "       b' Private', b' Private', b' Private', b' Private', b' Private',\n",
            "       b' Self-emp-not-inc', b' Private', b' Local-gov', b' Private',\n",
            "       b' Private', b' Self-emp-not-inc', b' Private', b' Federal-gov',\n",
            "       b' Private', b' Private', b' Private'], dtype=object)>, 'education_num': <tf.Tensor: shape=(64,), dtype=int64, numpy=\n",
            "array([10, 10,  9,  9, 12, 14,  5,  9, 13, 16, 13,  9,  7, 10,  9,  9, 10,\n",
            "        9, 13, 15,  6, 10,  9,  4, 13, 10,  9, 12,  9, 11,  9,  9,  9, 10,\n",
            "        9, 11, 10, 10,  4, 13, 10,  9,  9,  9,  9, 10, 13, 13,  9, 11, 11,\n",
            "        9,  9, 10,  9, 13, 13,  3,  6,  9,  9,  9, 13, 10])>, 'occupation': <tf.Tensor: shape=(64,), dtype=string, numpy=\n",
            "array([b' Other-service', b' Craft-repair', b' Machine-op-inspct',\n",
            "       b' Craft-repair', b' Prof-specialty', b' Exec-managerial',\n",
            "       b' Craft-repair', b' Handlers-cleaners', b' Prof-specialty',\n",
            "       b' Exec-managerial', b' Craft-repair', b' Craft-repair',\n",
            "       b' Handlers-cleaners', b' Transport-moving', b' Other-service',\n",
            "       b' Adm-clerical', b' Transport-moving', b' Craft-repair',\n",
            "       b' Prof-specialty', b' Prof-specialty', b' Transport-moving',\n",
            "       b' Prof-specialty', b' Other-service', b' Farming-fishing',\n",
            "       b' Exec-managerial', b' Craft-repair', b' Sales',\n",
            "       b' Prof-specialty', b' Adm-clerical', b' Adm-clerical',\n",
            "       b' Craft-repair', b' Machine-op-inspct', b' Adm-clerical',\n",
            "       b' Sales', b' Handlers-cleaners', b' Adm-clerical',\n",
            "       b' Handlers-cleaners', b' Adm-clerical', b' Craft-repair',\n",
            "       b' Protective-serv', b' Adm-clerical', b' Farming-fishing',\n",
            "       b' Prof-specialty', b' Sales', b' Sales', b' Protective-serv',\n",
            "       b' Prof-specialty', b' Prof-specialty', b' Sales',\n",
            "       b' Adm-clerical', b' Craft-repair', b' Machine-op-inspct',\n",
            "       b' Handlers-cleaners', b' Farming-fishing', b' Adm-clerical',\n",
            "       b' Prof-specialty', b' Adm-clerical', b' Craft-repair',\n",
            "       b' Transport-moving', b' Craft-repair', b' Transport-moving',\n",
            "       b' Machine-op-inspct', b' Prof-specialty', b' Handlers-cleaners'],\n",
            "      dtype=object)>, 'capital_gain': <tf.Tensor: shape=(64,), dtype=int64, numpy=\n",
            "array([   0,    0,    0,    0,    0, 7688,    0,    0,    0,    0, 7298,\n",
            "       5178,    0,    0,    0,    0,    0,    0,    0,    0,    0,    0,\n",
            "          0, 2105,    0,    0,    0,    0,    0,    0,    0, 7688,    0,\n",
            "          0,    0,    0,    0,    0,    0,    0,    0,    0,    0,    0,\n",
            "          0, 3137,    0,    0,    0,    0,    0,    0,    0,    0,    0,\n",
            "          0,    0,    0,    0,    0, 3325,    0,    0,    0])>, 'capital_loss': <tf.Tensor: shape=(64,), dtype=int64, numpy=\n",
            "array([0, 0, 0, 0, 0, 0, 0, 0, 0, 0, 0, 0, 0, 0, 0, 0, 0, 0, 0, 0, 0, 0,\n",
            "       0, 0, 0, 0, 0, 0, 0, 0, 0, 0, 0, 0, 0, 0, 0, 0, 0, 0, 0, 0, 0, 0,\n",
            "       0, 0, 0, 0, 0, 0, 0, 0, 0, 0, 0, 0, 0, 0, 0, 0, 0, 0, 0, 0])>, 'institute_type': <tf.Tensor: shape=(64,), dtype=string, numpy=\n",
            "array([b'NBF', b'PVT', b'PVT', b'PVT', b'PVT', b'PVT', b'PVT', b'PVT',\n",
            "       b'PVT', b'PVT', b'NBF', b'NBF', b'PVT', b'PVT', b'NBF', b'NBF',\n",
            "       b'PVT', b'PVT', b'PVT', b'NBF', b'PVT', b'PVT', b'PVT', b'NBF',\n",
            "       b'NBF', b'PVT', b'NBF', b'PUB', b'PVT', b'PVT', b'PVT', b'PVT',\n",
            "       b'PVT', b'PVT', b'NBF', b'NBF', b'PVT', b'NBF', b'PVT', b'NBF',\n",
            "       b'PVT', b'PVT', b'PVT', b'NBF', b'NBF', b'PVT', b'PVT', b'PVT',\n",
            "       b'NBF', b'NBF', b'PVT', b'NBF', b'PVT', b'PVT', b'PVT', b'NBF',\n",
            "       b'PVT', b'PVT', b'PVT', b'PVT', b'PVT', b'NBF', b'PVT', b'NBF'],\n",
            "      dtype=object)>, 'account_type': <tf.Tensor: shape=(64,), dtype=int64, numpy=\n",
            "array([189,   5,  58,   5, 189,   5,   5,   5,   5,   5,   5, 189, 173,\n",
            "         5, 189, 173, 123, 189,   5, 189,   5,   5,   5, 189,   5,   5,\n",
            "       999,  47,   5, 130, 123,   5,   5,   5, 999,   5,   5, 173,   5,\n",
            "       224,   5,   5,   5, 189, 189,  58,   5,   5,   5, 189,   5, 177,\n",
            "         5,   5,   5, 191,   5,   5,   5,   5,   5,   5,   5,   5])>, 'asset_class_cd': <tf.Tensor: shape=(64,), dtype=string, numpy=\n",
            "array([b'Default', b'Default', b'S', b'Default', b'Default', b'Default',\n",
            "       b'Default', b'Default', b'Default', b'Default', b'Default',\n",
            "       b'Default', b'S', b'Default', b'Default', b'Default', b'S',\n",
            "       b'Default', b'Default', b'S', b'Default', b'Default', b'Default',\n",
            "       b'S', b'Default', b'Default', b'Default', b'S', b'Default', b'S',\n",
            "       b'S', b'Default', b'Default', b'Default', b'Default', b'Default',\n",
            "       b'Default', b'S', b'Default', b'S', b'Default', b'Default',\n",
            "       b'Default', b'S', b'Default', b'S', b'Default', b'Default',\n",
            "       b'Default', b'Default', b'Default', b'S', b'Default', b'Default',\n",
            "       b'Default', b'S', b'Default', b'Default', b'Default', b'Default',\n",
            "       b'Default', b'Default', b'Default', b'Default'], dtype=object)>, 'portfolio_type': <tf.Tensor: shape=(64,), dtype=string, numpy=\n",
            "array([b'I', b'R', b'M', b'R', b'I', b'R', b'R', b'R', b'R', b'R', b'R',\n",
            "       b'I', b'I', b'R', b'I', b'I', b'I', b'I', b'R', b'I', b'R', b'R',\n",
            "       b'R', b'I', b'R', b'R', b'I', b'I', b'R', b'I', b'I', b'R', b'R',\n",
            "       b'R', b'I', b'R', b'R', b'I', b'R', b'R', b'R', b'R', b'R', b'I',\n",
            "       b'I', b'M', b'R', b'R', b'R', b'I', b'R', b'I', b'R', b'R', b'R',\n",
            "       b'I', b'R', b'R', b'R', b'R', b'R', b'R', b'R', b'R'], dtype=object)>, 'age': <tf.Tensor: shape=(64,), dtype=int64, numpy=\n",
            "array([36, 28, 29, 29, 53, 45, 54, 23, 37, 45, 45, 39, 23, 32, 49, 57, 69,\n",
            "       49, 31, 28, 58, 30, 34, 24, 68, 51, 41, 31, 37, 22, 39, 59, 42, 47,\n",
            "       41, 42, 32, 41, 23, 40, 30, 51, 36, 45, 52, 25, 30, 35, 28, 39, 45,\n",
            "       31, 38, 54, 31, 25, 23, 49, 53, 19, 45, 23, 33, 26])>, 'marital_status_less': <tf.Tensor: shape=(64,), dtype=string, numpy=\n",
            "array([b'not_married', b'not_married', b'married', b' never_married',\n",
            "       b'married', b'married', b'married', b' never_married', b'married',\n",
            "       b'married', b'married', b'married', b' never_married', b'married',\n",
            "       b' never_married', b' never_married', b'married', b'married',\n",
            "       b'married', b' never_married', b'married', b' never_married',\n",
            "       b'married', b'married', b'married', b'married', b' never_married',\n",
            "       b'married', b'not_married', b' never_married', b'married',\n",
            "       b'married', b'not_married', b'married', b'married', b'married',\n",
            "       b'married', b'married', b' never_married', b'married', b'married',\n",
            "       b' never_married', b'married', b'married', b'married', b'married',\n",
            "       b' never_married', b'married', b'not_married', b'not_married',\n",
            "       b'married', b'married', b'not_married', b'married',\n",
            "       b' never_married', b' never_married', b' never_married',\n",
            "       b'married', b'not_married', b' never_married', b' never_married',\n",
            "       b'married', b'married', b' never_married'], dtype=object)>, 'hours_': <tf.Tensor: shape=(64,), dtype=string, numpy=\n",
            "array([b'part_time', b'over_time', b'over_time', b'over_time',\n",
            "       b'over_time', b'over_time', b'over_time', b'full_time',\n",
            "       b'over_time', b'over_time', b'over_time', b'over_time',\n",
            "       b'over_time', b'over_time', b'over_time', b'over_time',\n",
            "       b'part_time', b'over_time', b'over_time', b'over_time',\n",
            "       b'over_time', b'over_time', b'over_time', b'over_time',\n",
            "       b'over_time', b'over_time', b'over_time', b'over_time',\n",
            "       b'full_time', b'full_time', b'over_time', b'over_time',\n",
            "       b'over_time', b'over_time', b'over_time', b'full_time',\n",
            "       b'over_time', b'over_time', b'full_time', b'over_time',\n",
            "       b'over_time', b'over_time', b'over_time', b'over_time',\n",
            "       b'over_time', b'over_time', b'over_time', b'over_time',\n",
            "       b'over_time', b'over_time', b'over_time', b'over_time',\n",
            "       b'over_time', b'over_time', b'over_time', b'over_time',\n",
            "       b'full_time', b'over_time', b'over_time', b'full_time',\n",
            "       b'over_time', b'over_time', b'over_time', b'over_time'],\n",
            "      dtype=object)>, 'loan_type_': <tf.Tensor: shape=(64,), dtype=string, numpy=\n",
            "array([b'other', b'large', b'large', b'other', b'large', b'other',\n",
            "       b'small', b'large', b'small', b'small', b'large', b'large',\n",
            "       b'large', b'small', b'small', b'large', b'large', b'small',\n",
            "       b'large', b'large', b'small', b'small', b'other', b'large',\n",
            "       b'small', b'large', b'large', b'small', b'large', b'large',\n",
            "       b'other', b'small', b'other', b'small', b'large', b'large',\n",
            "       b'large', b'large', b'small', b'large', b'small', b'small',\n",
            "       b'other', b'large', b'small', b'large', b'small', b'small',\n",
            "       b'large', b'small', b'other', b'large', b'large', b'large',\n",
            "       b'large', b'large', b'small', b'other', b'small', b'other',\n",
            "       b'other', b'other', b'small', b'large'], dtype=object)>}, <tf.Tensor: shape=(64,), dtype=int64, numpy=\n",
            "array([0, 0, 0, 0, 1, 1, 0, 0, 1, 0, 1, 1, 0, 0, 0, 0, 0, 1, 1, 0, 0, 0,\n",
            "       0, 0, 1, 0, 0, 1, 0, 0, 0, 1, 0, 1, 0, 0, 0, 1, 0, 0, 1, 0, 1, 0,\n",
            "       1, 0, 0, 0, 0, 0, 1, 0, 0, 1, 0, 0, 0, 0, 0, 0, 0, 0, 0, 0])>)\n"
          ],
          "name": "stdout"
        }
      ]
    },
    {
      "cell_type": "code",
      "metadata": {
        "id": "56WwdPdiH_0e",
        "colab_type": "code",
        "colab": {
          "base_uri": "https://localhost:8080/",
          "height": 136
        },
        "outputId": "6b5ff93e-881d-48db-d98b-9ea75ab06902"
      },
      "source": [
        "model.predict(test_ds)"
      ],
      "execution_count": null,
      "outputs": [
        {
          "output_type": "execute_result",
          "data": {
            "text/plain": [
              "array([[-7.49428484],\n",
              "       [-6.01008518],\n",
              "       [ 2.87356679],\n",
              "       ...,\n",
              "       [ 1.25654307],\n",
              "       [-1.50913073],\n",
              "       [-4.37151426]])"
            ]
          },
          "metadata": {
            "tags": []
          },
          "execution_count": 42
        }
      ]
    },
    {
      "cell_type": "code",
      "metadata": {
        "id": "7-mDcZ5oBngq",
        "colab_type": "code",
        "colab": {}
      },
      "source": [
        ""
      ],
      "execution_count": null,
      "outputs": []
    },
    {
      "cell_type": "code",
      "metadata": {
        "id": "rzee0erMS4bI",
        "colab_type": "code",
        "colab": {
          "base_uri": "https://localhost:8080/",
          "height": 204
        },
        "outputId": "08a7dd77-5049-4a59-ef79-e1b0312f9bc1"
      },
      "source": [
        "df.institute_type.value_counts()"
      ],
      "execution_count": null,
      "outputs": [
        {
          "output_type": "execute_result",
          "data": {
            "text/plain": [
              "PVT    26669\n",
              "NBF    15927\n",
              "PUB     1226\n",
              "HFC      906\n",
              "BRO      303\n",
              "FOR      107\n",
              "INS       41\n",
              "COB       35\n",
              "TEL        4\n",
              "SRC        4\n",
              "Name: institute_type, dtype: int64"
            ]
          },
          "metadata": {
            "tags": []
          },
          "execution_count": 13
        }
      ]
    },
    {
      "cell_type": "code",
      "metadata": {
        "id": "iZRoj1ryS4XJ",
        "colab_type": "code",
        "colab": {
          "base_uri": "https://localhost:8080/",
          "height": 170
        },
        "outputId": "27ee11ba-1817-457c-92b1-667d24408d5b"
      },
      "source": [
        "df.asset_class_cd.value_counts() #null too many may skip"
      ],
      "execution_count": null,
      "outputs": [
        {
          "output_type": "execute_result",
          "data": {
            "text/plain": [
              "S     8609\n",
              "?      319\n",
              "B      230\n",
              "L      144\n",
              "D      110\n",
              "M       78\n",
              "01       1\n",
              "-1       1\n",
              "Name: asset_class_cd, dtype: int64"
            ]
          },
          "metadata": {
            "tags": []
          },
          "execution_count": 14
        }
      ]
    },
    {
      "cell_type": "code",
      "metadata": {
        "id": "ZG3FdJP3aUZk",
        "colab_type": "code",
        "colab": {
          "base_uri": "https://localhost:8080/",
          "height": 102
        },
        "outputId": "972fd181-77ae-4675-c305-ae24abaa280a"
      },
      "source": [
        "df.asset_code.value_counts() #imbalance data"
      ],
      "execution_count": null,
      "outputs": [
        {
          "output_type": "execute_result",
          "data": {
            "text/plain": [
              "1.0     43715\n",
              "2.0      1164\n",
              "4.0       199\n",
              "19.0       62\n",
              "Name: asset_code, dtype: int64"
            ]
          },
          "metadata": {
            "tags": []
          },
          "execution_count": 15
        }
      ]
    },
    {
      "cell_type": "code",
      "metadata": {
        "id": "kKO7p2s3alDu",
        "colab_type": "code",
        "colab": {
          "base_uri": "https://localhost:8080/",
          "height": 102
        },
        "outputId": "12979438-a0e4-42de-bc9c-c53ef22c42eb"
      },
      "source": [
        "df.portfolio_type.value_counts()"
      ],
      "execution_count": null,
      "outputs": [
        {
          "output_type": "execute_result",
          "data": {
            "text/plain": [
              "R    26967\n",
              "I    17088\n",
              "M     1146\n",
              "F       15\n",
              "Name: portfolio_type, dtype: int64"
            ]
          },
          "metadata": {
            "tags": []
          },
          "execution_count": 16
        }
      ]
    },
    {
      "cell_type": "code",
      "metadata": {
        "id": "aTnG568PCsgN",
        "colab_type": "code",
        "colab": {},
        "outputId": "88137205-ccb0-43e2-956d-2add7a1d907c"
      },
      "source": [
        "df.describe()"
      ],
      "execution_count": null,
      "outputs": [
        {
          "output_type": "execute_result",
          "data": {
            "text/html": [
              "<div>\n",
              "<style scoped>\n",
              "    .dataframe tbody tr th:only-of-type {\n",
              "        vertical-align: middle;\n",
              "    }\n",
              "\n",
              "    .dataframe tbody tr th {\n",
              "        vertical-align: top;\n",
              "    }\n",
              "\n",
              "    .dataframe thead th {\n",
              "        text-align: right;\n",
              "    }\n",
              "</style>\n",
              "<table border=\"1\" class=\"dataframe\">\n",
              "  <thead>\n",
              "    <tr style=\"text-align: right;\">\n",
              "      <th></th>\n",
              "      <th>education_num</th>\n",
              "      <th>capital_gain</th>\n",
              "      <th>capital_loss</th>\n",
              "      <th>hours_per_week</th>\n",
              "      <th>approved</th>\n",
              "      <th>inquiry_purpose_code</th>\n",
              "      <th>account_type</th>\n",
              "      <th>asset_code</th>\n",
              "    </tr>\n",
              "  </thead>\n",
              "  <tbody>\n",
              "    <tr>\n",
              "      <th>count</th>\n",
              "      <td>45222.000000</td>\n",
              "      <td>45222.000000</td>\n",
              "      <td>45222.000000</td>\n",
              "      <td>45222.000000</td>\n",
              "      <td>45222.000000</td>\n",
              "      <td>43931.000000</td>\n",
              "      <td>45222.000000</td>\n",
              "      <td>45140.000000</td>\n",
              "    </tr>\n",
              "    <tr>\n",
              "      <th>mean</th>\n",
              "      <td>10.118460</td>\n",
              "      <td>1101.430344</td>\n",
              "      <td>88.595418</td>\n",
              "      <td>40.938017</td>\n",
              "      <td>0.247844</td>\n",
              "      <td>28.936560</td>\n",
              "      <td>79.807019</td>\n",
              "      <td>1.063735</td>\n",
              "    </tr>\n",
              "    <tr>\n",
              "      <th>std</th>\n",
              "      <td>2.552881</td>\n",
              "      <td>7506.430084</td>\n",
              "      <td>404.956092</td>\n",
              "      <td>12.007508</td>\n",
              "      <td>0.431766</td>\n",
              "      <td>35.393095</td>\n",
              "      <td>143.951963</td>\n",
              "      <td>0.711637</td>\n",
              "    </tr>\n",
              "    <tr>\n",
              "      <th>min</th>\n",
              "      <td>1.000000</td>\n",
              "      <td>0.000000</td>\n",
              "      <td>0.000000</td>\n",
              "      <td>1.000000</td>\n",
              "      <td>0.000000</td>\n",
              "      <td>1.000000</td>\n",
              "      <td>5.000000</td>\n",
              "      <td>1.000000</td>\n",
              "    </tr>\n",
              "    <tr>\n",
              "      <th>25%</th>\n",
              "      <td>9.000000</td>\n",
              "      <td>0.000000</td>\n",
              "      <td>0.000000</td>\n",
              "      <td>40.000000</td>\n",
              "      <td>0.000000</td>\n",
              "      <td>13.000000</td>\n",
              "      <td>5.000000</td>\n",
              "      <td>1.000000</td>\n",
              "    </tr>\n",
              "    <tr>\n",
              "      <th>50%</th>\n",
              "      <td>10.000000</td>\n",
              "      <td>0.000000</td>\n",
              "      <td>0.000000</td>\n",
              "      <td>40.000000</td>\n",
              "      <td>0.000000</td>\n",
              "      <td>13.000000</td>\n",
              "      <td>5.000000</td>\n",
              "      <td>1.000000</td>\n",
              "    </tr>\n",
              "    <tr>\n",
              "      <th>75%</th>\n",
              "      <td>13.000000</td>\n",
              "      <td>0.000000</td>\n",
              "      <td>0.000000</td>\n",
              "      <td>45.000000</td>\n",
              "      <td>0.000000</td>\n",
              "      <td>16.000000</td>\n",
              "      <td>173.000000</td>\n",
              "      <td>1.000000</td>\n",
              "    </tr>\n",
              "    <tr>\n",
              "      <th>max</th>\n",
              "      <td>16.000000</td>\n",
              "      <td>99999.000000</td>\n",
              "      <td>4356.000000</td>\n",
              "      <td>99.000000</td>\n",
              "      <td>1.000000</td>\n",
              "      <td>99.000000</td>\n",
              "      <td>999.000000</td>\n",
              "      <td>19.000000</td>\n",
              "    </tr>\n",
              "  </tbody>\n",
              "</table>\n",
              "</div>"
            ],
            "text/plain": [
              "       education_num  capital_gain  capital_loss  hours_per_week  \\\n",
              "count   45222.000000  45222.000000  45222.000000    45222.000000   \n",
              "mean       10.118460   1101.430344     88.595418       40.938017   \n",
              "std         2.552881   7506.430084    404.956092       12.007508   \n",
              "min         1.000000      0.000000      0.000000        1.000000   \n",
              "25%         9.000000      0.000000      0.000000       40.000000   \n",
              "50%        10.000000      0.000000      0.000000       40.000000   \n",
              "75%        13.000000      0.000000      0.000000       45.000000   \n",
              "max        16.000000  99999.000000   4356.000000       99.000000   \n",
              "\n",
              "           approved  inquiry_purpose_code  account_type    asset_code  \n",
              "count  45222.000000          43931.000000  45222.000000  45140.000000  \n",
              "mean       0.247844             28.936560     79.807019      1.063735  \n",
              "std        0.431766             35.393095    143.951963      0.711637  \n",
              "min        0.000000              1.000000      5.000000      1.000000  \n",
              "25%        0.000000             13.000000      5.000000      1.000000  \n",
              "50%        0.000000             13.000000      5.000000      1.000000  \n",
              "75%        0.000000             16.000000    173.000000      1.000000  \n",
              "max        1.000000             99.000000    999.000000     19.000000  "
            ]
          },
          "metadata": {
            "tags": []
          },
          "execution_count": 2
        }
      ]
    },
    {
      "cell_type": "code",
      "metadata": {
        "id": "1zP3vohiCsgV",
        "colab_type": "code",
        "colab": {},
        "outputId": "05063a0c-b9fe-4bbe-ae97-338d22f090c9"
      },
      "source": [
        "from scipy.stats import pearsonr\n",
        "import statsmodels.api as sm\n",
        "print(\"Pearson Correlation:\", pearsonr(df.approved, df.education_num))\n",
        "print(sm.OLS(df.education_num, df.approved).fit().summary())\n",
        "sns.lmplot(y = 'approved', x='education_num', data=df)"
      ],
      "execution_count": null,
      "outputs": [
        {
          "output_type": "stream",
          "text": [
            "Pearson Correlation: (0.3327998791762555, 0.0)\n",
            "                                 OLS Regression Results                                \n",
            "=======================================================================================\n",
            "Dep. Variable:          education_num   R-squared (uncentered):                   0.306\n",
            "Model:                            OLS   Adj. R-squared (uncentered):              0.306\n",
            "Method:                 Least Squares   F-statistic:                          1.995e+04\n",
            "Date:                Wed, 27 May 2020   Prob (F-statistic):                        0.00\n",
            "Time:                        16:04:41   Log-Likelihood:                     -1.6196e+05\n",
            "No. Observations:               45222   AIC:                                  3.239e+05\n",
            "Df Residuals:                   45221   BIC:                                  3.239e+05\n",
            "Df Model:                           1                                                  \n",
            "Covariance Type:            nonrobust                                                  \n",
            "==============================================================================\n",
            "                 coef    std err          t      P>|t|      [0.025      0.975]\n",
            "------------------------------------------------------------------------------\n",
            "approved      11.5985      0.082    141.260      0.000      11.438      11.759\n",
            "==============================================================================\n",
            "Omnibus:                     4107.536   Durbin-Watson:                   0.151\n",
            "Prob(Omnibus):                  0.000   Jarque-Bera (JB):             5009.425\n",
            "Skew:                          -0.795   Prob(JB):                         0.00\n",
            "Kurtosis:                       2.641   Cond. No.                         1.00\n",
            "==============================================================================\n",
            "\n",
            "Warnings:\n",
            "[1] Standard Errors assume that the covariance matrix of the errors is correctly specified.\n"
          ],
          "name": "stdout"
        },
        {
          "output_type": "execute_result",
          "data": {
            "text/plain": [
              "<seaborn.axisgrid.FacetGrid at 0x2630ce72588>"
            ]
          },
          "metadata": {
            "tags": []
          },
          "execution_count": 3
        },
        {
          "output_type": "display_data",
          "data": {
            "image/png": "[encoded data removed]",
            "text/plain": [
              "<Figure size 360x360 with 1 Axes>"
            ]
          },
          "metadata": {
            "tags": [],
            "needs_background": "light"
          }
        }
      ]
    },
    {
      "cell_type": "code",
      "metadata": {
        "id": "MA_Iia9CCsgc",
        "colab_type": "code",
        "colab": {},
        "outputId": "7d9dccdc-2ab7-4d19-8b24-36de19c9a934"
      },
      "source": [
        "f, ax = plt.subplots(figsize=(6, 6))\n",
        "ax = sns.countplot(x=\"gender\", hue=\"approved\", data=df)\n",
        "plt.show() "
      ],
      "execution_count": null,
      "outputs": [
        {
          "output_type": "display_data",
          "data": {
            "image/png": "[encoded data removed]",
            "text/plain": [
              "<Figure size 432x432 with 1 Axes>"
            ]
          },
          "metadata": {
            "tags": [],
            "needs_background": "light"
          }
        }
      ]
    },
    {
      "cell_type": "code",
      "metadata": {
        "id": "bH7LK_0xCsgi",
        "colab_type": "code",
        "colab": {},
        "outputId": "33f4e28b-6836-4d10-d24f-d0d7f1f8a2c9"
      },
      "source": [
        "f, ax = plt.subplots(figsize=(8, 8))\n",
        "ax = sns.countplot(x=\"workclass\", hue=\"approved\", data=df)\n",
        "plt.show() "
      ],
      "execution_count": null,
      "outputs": [
        {
          "output_type": "display_data",
          "data": {
            "image/png": "[encoded data removed]",
            "text/plain": [
              "<Figure size 576x576 with 1 Axes>"
            ]
          },
          "metadata": {
            "tags": [],
            "needs_background": "light"
          }
        }
      ]
    },
    {
      "cell_type": "code",
      "metadata": {
        "id": "1h-bWMwlCsgq",
        "colab_type": "code",
        "colab": {}
      },
      "source": [
        ""
      ],
      "execution_count": null,
      "outputs": []
    },
    {
      "cell_type": "code",
      "metadata": {
        "id": "bD_P25afCsgx",
        "colab_type": "code",
        "colab": {},
        "outputId": "45984894-f7ae-4f0a-e418-f4ff3dbf2f2c"
      },
      "source": [
        "f, ax = plt.subplots(figsize=(10, 10))\n",
        "ax = sns.countplot(x=\"marital_status\", hue=\"approved\", data=df)\n",
        "plt.show() "
      ],
      "execution_count": null,
      "outputs": [
        {
          "output_type": "display_data",
          "data": {
            "image/png": "[encoded data removed]",
            "text/plain": [
              "<Figure size 720x720 with 1 Axes>"
            ]
          },
          "metadata": {
            "tags": [],
            "needs_background": "light"
          }
        }
      ]
    },
    {
      "cell_type": "code",
      "metadata": {
        "id": "YXPwlhmGCsg2",
        "colab_type": "code",
        "colab": {},
        "outputId": "da52bbdb-7bf5-4598-d570-1eb34b5c9e17"
      },
      "source": [
        "education_num=df.groupby('education_num').filter(lambda x: len(x) >100)\n",
        "df2 = pd.DataFrame({col:vals['approved'] for col,vals in education_num.groupby('education_num')})\n",
        "meds = df2.median()\n",
        "meds.sort_values(ascending=False,inplace=True)\n",
        "fig, ax = plt.subplots(figsize = (20,7))\n",
        "chart = sns.boxplot(x='education_num',y='approved', data=education_num, order=meds.index, ax = ax)\n",
        "plt.xticks(rotation = 90)\n",
        "\n",
        "plt.show()"
      ],
      "execution_count": null,
      "outputs": [
        {
          "output_type": "display_data",
          "data": {
            "image/png": "[encoded data removed]",
            "text/plain": [
              "<Figure size 1440x504 with 1 Axes>"
            ]
          },
          "metadata": {
            "tags": [],
            "needs_background": "light"
          }
        }
      ]
    },
    {
      "cell_type": "code",
      "metadata": {
        "id": "T3sQJ3nUCsg6",
        "colab_type": "code",
        "colab": {},
        "outputId": "abed25fe-9eb8-4053-c4b3-72f25b4e6817"
      },
      "source": [
        "education_num=df.groupby('education_num').filter(lambda x: len(x) >100)\n",
        "df2 = pd.DataFrame({col:vals['approved'] for col,vals in education_num.groupby('education_num')})\n",
        "meds = df2.median()\n",
        "meds.sort_values(ascending=False,inplace=True)\n",
        "fig, ax = plt.subplots(figsize = (20,7))\n",
        "chart = sns.boxplot(x='education_num',y='approved', data=education_num, order=meds.index, ax = ax)\n",
        "plt.xticks(rotation = 90)\n",
        "\n",
        "plt.show() "
      ],
      "execution_count": null,
      "outputs": [
        {
          "output_type": "display_data",
          "data": {
            "image/png": "[encoded data removed]",
            "text/plain": [
              "<Figure size 1440x504 with 1 Axes>"
            ]
          },
          "metadata": {
            "tags": [],
            "needs_background": "light"
          }
        }
      ]
    },
    {
      "cell_type": "code",
      "metadata": {
        "id": "kEYw00TWCsg_",
        "colab_type": "code",
        "colab": {},
        "outputId": "d8d07781-38b9-4757-e285-edc7d8a94f10"
      },
      "source": [
        "f, ax = plt.subplots(figsize=(10, 10))\n",
        "ax = sns.countplot(x=\"education_num\", hue=\"approved\", data=df)\n",
        "plt.show() "
      ],
      "execution_count": null,
      "outputs": [
        {
          "output_type": "display_data",
          "data": {
            "image/png": "[encoded data removed]",
            "text/plain": [
              "<Figure size 720x720 with 1 Axes>"
            ]
          },
          "metadata": {
            "tags": [],
            "needs_background": "light"
          }
        }
      ]
    },
    {
      "cell_type": "code",
      "metadata": {
        "id": "LukOaGuqCshC",
        "colab_type": "code",
        "colab": {},
        "outputId": "32e60106-604f-4cdb-855b-4e9df44a3aff"
      },
      "source": [
        "df.shape\n",
        "df.columns"
      ],
      "execution_count": null,
      "outputs": [
        {
          "output_type": "execute_result",
          "data": {
            "text/plain": [
              "Index(['user_id', 'gender', 'date_of_birth', 'workclass', 'education_level',\n",
              "       'education_num', 'marital_status', 'occupation', 'relationship',\n",
              "       'capital_gain', 'capital_loss', 'hours_per_week', 'approved', 'address',\n",
              "       'email', 'inquiry_purpose_code', 'institute_type', 'account_type',\n",
              "       'asset_class_cd', 'asset_code', 'portfolio_type'],\n",
              "      dtype='object')"
            ]
          },
          "metadata": {
            "tags": []
          },
          "execution_count": 10
        }
      ]
    },
    {
      "cell_type": "code",
      "metadata": {
        "id": "-QAD3ZzgCshG",
        "colab_type": "code",
        "colab": {}
      },
      "source": [
        ""
      ],
      "execution_count": null,
      "outputs": []
    },
    {
      "cell_type": "code",
      "metadata": {
        "id": "Q3GkeIsiCshM",
        "colab_type": "code",
        "colab": {},
        "outputId": "a76434e3-6688-45c5-ecf5-34ab1b0bca47"
      },
      "source": [
        "correlation = df.corr()\n",
        "plt.figure(figsize=(16,18))\n",
        "plt.title('Correlation Heatmap of Bank Dataset')\n",
        "a = sns.heatmap(correlation, square=True, annot=True, fmt='.2f', linecolor='white')\n",
        "a.set_xticklabels(a.get_xticklabels(), rotation=90)\n",
        "a.set_yticklabels(a.get_yticklabels(), rotation=30)           \n",
        "plt.show()"
      ],
      "execution_count": null,
      "outputs": [
        {
          "output_type": "display_data",
          "data": {
            "image/png": "[encoded data removed]",
            "text/plain": [
              "<Figure size 1152x1296 with 2 Axes>"
            ]
          },
          "metadata": {
            "tags": [],
            "needs_background": "light"
          }
        }
      ]
    },
    {
      "cell_type": "code",
      "metadata": {
        "id": "SzgXW_NSCshS",
        "colab_type": "code",
        "colab": {},
        "outputId": "559e5bda-c520-4f49-dbcf-e12e4b9cff8b"
      },
      "source": [
        "df['workclass'].value_counts()"
      ],
      "execution_count": null,
      "outputs": [
        {
          "output_type": "execute_result",
          "data": {
            "text/plain": [
              " Private             33307\n",
              " Self-emp-not-inc     3796\n",
              " Local-gov            3100\n",
              " State-gov            1946\n",
              " Self-emp-inc         1646\n",
              " Federal-gov          1406\n",
              " Without-pay            21\n",
              "Name: workclass, dtype: int64"
            ]
          },
          "metadata": {
            "tags": []
          },
          "execution_count": 12
        }
      ]
    },
    {
      "cell_type": "code",
      "metadata": {
        "id": "w0rhbYQVCshW",
        "colab_type": "code",
        "colab": {}
      },
      "source": [
        ""
      ],
      "execution_count": null,
      "outputs": []
    },
    {
      "cell_type": "code",
      "metadata": {
        "id": "6UhR_W_BCshb",
        "colab_type": "code",
        "colab": {},
        "outputId": "884b7bde-d04c-4772-d797-d08ebb1f8c8f"
      },
      "source": [
        "df['portfolio_type'].value_counts()"
      ],
      "execution_count": null,
      "outputs": [
        {
          "output_type": "execute_result",
          "data": {
            "text/plain": [
              "R    26967\n",
              "I    17088\n",
              "M     1146\n",
              "F       15\n",
              "Name: portfolio_type, dtype: int64"
            ]
          },
          "metadata": {
            "tags": []
          },
          "execution_count": 13
        }
      ]
    },
    {
      "cell_type": "code",
      "metadata": {
        "id": "Kb2WL07SCshg",
        "colab_type": "code",
        "colab": {},
        "outputId": "86b2462e-d9de-426b-a7ea-2db2d0d84d7a"
      },
      "source": [
        "df['inquiry_purpose_code'].value_counts()"
      ],
      "execution_count": null,
      "outputs": [
        {
          "output_type": "execute_result",
          "data": {
            "text/plain": [
              "13.0    20494\n",
              "99.0     8862\n",
              "7.0      5871\n",
              "16.0     3536\n",
              "2.0      2434\n",
              "14.0     1108\n",
              "6.0       479\n",
              "1.0       353\n",
              "10.0      183\n",
              "8.0       172\n",
              "5.0       126\n",
              "3.0       124\n",
              "11.0      110\n",
              "4.0        40\n",
              "17.0       21\n",
              "9.0         7\n",
              "18.0        7\n",
              "12.0        4\n",
              "Name: inquiry_purpose_code, dtype: int64"
            ]
          },
          "metadata": {
            "tags": []
          },
          "execution_count": 14
        }
      ]
    },
    {
      "cell_type": "code",
      "metadata": {
        "id": "9_GEgig3Cshk",
        "colab_type": "code",
        "colab": {},
        "outputId": "d26a9918-9074-4a3f-e61c-91d09f375682"
      },
      "source": [
        "df['marital_status'].value_counts()"
      ],
      "execution_count": null,
      "outputs": [
        {
          "output_type": "execute_result",
          "data": {
            "text/plain": [
              " Married-civ-spouse       21055\n",
              " Never-married            14598\n",
              " Divorced                  6297\n",
              " Separated                 1411\n",
              " Widowed                   1277\n",
              " Married-spouse-absent      552\n",
              " Married-AF-spouse           32\n",
              "Name: marital_status, dtype: int64"
            ]
          },
          "metadata": {
            "tags": []
          },
          "execution_count": 15
        }
      ]
    },
    {
      "cell_type": "code",
      "metadata": {
        "id": "Jd1C9jafCshp",
        "colab_type": "code",
        "colab": {},
        "outputId": "ff4ef217-91cf-4cb6-a695-31c63e5fc6ac"
      },
      "source": [
        "df.isnull().sum()"
      ],
      "execution_count": null,
      "outputs": [
        {
          "output_type": "execute_result",
          "data": {
            "text/plain": [
              "user_id                     0\n",
              "gender                      0\n",
              "date_of_birth               0\n",
              "workclass                   0\n",
              "education_level             0\n",
              "education_num               0\n",
              "marital_status              0\n",
              "occupation                  0\n",
              "relationship                0\n",
              "capital_gain                0\n",
              "capital_loss                0\n",
              "hours_per_week              0\n",
              "approved                    0\n",
              "address                     0\n",
              "email                       0\n",
              "inquiry_purpose_code     1291\n",
              "institute_type              0\n",
              "account_type                0\n",
              "asset_class_cd          35730\n",
              "asset_code                 82\n",
              "portfolio_type              6\n",
              "dtype: int64"
            ]
          },
          "metadata": {
            "tags": []
          },
          "execution_count": 16
        }
      ]
    },
    {
      "cell_type": "code",
      "metadata": {
        "id": "l-PhkefjCshv",
        "colab_type": "code",
        "colab": {},
        "outputId": "f8384f78-4a23-4042-b8fd-18d40fde746c"
      },
      "source": [
        "df['asset_class_cd'].value_counts()\n",
        "df['education_num'].value_counts()"
      ],
      "execution_count": null,
      "outputs": [
        {
          "output_type": "execute_result",
          "data": {
            "text/plain": [
              "9.0     14783\n",
              "10.0     9899\n",
              "13.0     7570\n",
              "14.0     2514\n",
              "11.0     1959\n",
              "7.0      1619\n",
              "12.0     1507\n",
              "6.0      1223\n",
              "4.0       823\n",
              "15.0      785\n",
              "5.0       676\n",
              "8.0       577\n",
              "16.0      544\n",
              "3.0       449\n",
              "2.0       222\n",
              "1.0        72\n",
              "Name: education_num, dtype: int64"
            ]
          },
          "metadata": {
            "tags": []
          },
          "execution_count": 17
        }
      ]
    },
    {
      "cell_type": "code",
      "metadata": {
        "id": "WaClFzmfCshz",
        "colab_type": "code",
        "colab": {}
      },
      "source": [
        "debt-to-income\n",
        "35% payment history, 30% amount owed, 15% length of history, 10% new credit, 10% types of credit used.\n",
        "https://www.investopedia.com/terms/u/underwriting.asp\n",
        "http://cseweb.ucsd.edu/classes/sp15/cse190-c/reports/sp15/024.pdf\n",
        "https://rpubs.com/Net/IncomeLevelClassification\n",
        "https://rstudio-pubs-static.s3.amazonaws.com/296518_b3035d35b9634ed2ba19fc7bf63b50ca.html\n",
        "https://www.rdocumentation.org/packages/arules/versions/1.6-6/topics/Adult"
      ],
      "execution_count": null,
      "outputs": []
    },
    {
      "cell_type": "code",
      "metadata": {
        "id": "VcprOQvtCsh2",
        "colab_type": "code",
        "colab": {}
      },
      "source": [
        ""
      ],
      "execution_count": null,
      "outputs": []
    }
  ]
}